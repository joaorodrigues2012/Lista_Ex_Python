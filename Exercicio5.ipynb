{
 "cells": [
  {
   "cell_type": "markdown",
   "metadata": {},
   "source": [
    "1 - Crie a classe Linha que tem dois atributos, coordenada1 e coordenada2.\n",
    "Cada coordenada é uma tupla que carrega duas coordenadas cartesianas (x,y) que\n",
    "denotam pontos do segmento de reta. Faça métodos que calculem o comprimento\n",
    "do segmento de reta e sua inclinação."
   ]
  },
  {
   "cell_type": "code",
   "execution_count": 7,
   "metadata": {},
   "outputs": [
    {
     "name": "stdout",
     "output_type": "stream",
     "text": [
      "2.8284271247461903\n",
      "-1.0\n"
     ]
    }
   ],
   "source": [
    "import math\n",
    "class Coordenada:\n",
    "    \n",
    "    def __init__(self, coord1, coord2):\n",
    "        self.coordenada1 = coord1\n",
    "        self.coordenada2 = coord2\n",
    "        \n",
    "    def calcularComprimento(self):\n",
    "        return math.sqrt((self.coordenada2[0] - self.coordenada1[0])**2 + (self.coordenada2[1] - self.coordenada1[1])**2)\n",
    "    \n",
    "    def calcularInclinacao(self):\n",
    "        return (self.coordenada2[1] - self.coordenada1[1]) / (self.coordenada2[0] - self.coordenada1[0])\n",
    "        \n",
    "Coordenada = Coordenada((2, 5), (0, 7))\n",
    "print(Coordenada.calcularComprimento())\n",
    "print(Coordenada.calcularInclinacao())\n",
    "        \n",
    "        "
   ]
  },
  {
   "cell_type": "code",
   "execution_count": null,
   "metadata": {},
   "outputs": [],
   "source": []
  },
  {
   "cell_type": "markdown",
   "metadata": {},
   "source": [
    "2 - Figuras: Crie a seguinte hierarquia de classes de figuras geométricas.\n",
    "a. A classe Figura deve ter o método area.\n",
    "b. A classe Circulo é subclasse de Figura.\n",
    "c. A classe Poligono é subclasse de Figura e deve ter os atributos base e altura .\n",
    "d. As classes Triangulo, Losango, Retangulo e Quadrado são subclasses de\n",
    "Poligono. Tente criar mais uma generalização aqui .\n",
    "e. Os polígonos Retangulo e Quadrado devem ter um meio de calcular sua\n",
    "diagonal. Use composição para isso.\n",
    "f. Crie uma classe Geometria com uma lista de Figuras com pelo menos uma\n",
    "figura de cada e imprima suas áreas.\n"
   ]
  },
  {
   "cell_type": "code",
   "execution_count": 13,
   "metadata": {},
   "outputs": [
    {
     "name": "stdout",
     "output_type": "stream",
     "text": [
      "Figura: Circulo \n",
      "Area: 1963.4954084936207\n",
      "\n",
      "Figura: Triangulo \n",
      "Area: 35.0\n",
      "\n",
      "Figura: Losango \n",
      "Area: 108.0\n",
      "\n",
      "Figura: Retangulo \n",
      "Area: 160\n",
      "\n",
      "Figura: Quadrado \n",
      "Area: 4\n",
      "\n"
     ]
    }
   ],
   "source": [
    "import math\n",
    "class Figura:\n",
    "    \n",
    "    def area(self):\n",
    "        raise NotImplementedError(\"Método abstrato que deve ser implementado\")\n",
    "        \n",
    "class Circulo(Figura):\n",
    "    \n",
    "    def __init__(self, raio):\n",
    "        self.raio = raio\n",
    "    \n",
    "    def area(self):\n",
    "        return math.pi * (self.raio**2)\n",
    "    \n",
    "class Poligono(Figura):\n",
    "    \n",
    "    def __init__(self, base, altura):\n",
    "        self.base = base\n",
    "        self.altura = altura        \n",
    "    \n",
    "        \n",
    "class Triangulo(Poligono):\n",
    "    \n",
    "    def area(self):\n",
    "        return (self.base * self.altura) / 2\n",
    "\n",
    "class Losango(Poligono):\n",
    "    \n",
    "    def area(self):\n",
    "        return (self.base * self.altura) / 2\n",
    "    \n",
    "class Diagonal:\n",
    "    \n",
    "    def diagonal(self, base, altura):\n",
    "        return (base**2 + altura**2)**(1/2)\n",
    "    \n",
    "\n",
    "class Retangulo(Poligono):\n",
    "    \n",
    "    diagonal = Diagonal()\n",
    "        \n",
    "    def diagonal(self):\n",
    "        return self.diagonal.diagonal(self.base, self.altura)\n",
    "    \n",
    "    def area(self):\n",
    "        return self.base * self.altura\n",
    "\n",
    "class Quadrado(Retangulo):\n",
    "    def __init__(self, lado):\n",
    "        Retangulo.__init__(self, lado, lado)\n",
    "\n",
    "class Geometria:\n",
    "    \n",
    "    def __init__(self, figuras):\n",
    "        self.lista = [x for x in figuras]\n",
    "        \n",
    "geometria = Geometria([    \n",
    "    Circulo(25),\n",
    "    Triangulo(7, 10),\n",
    "    Losango(27, 8),\n",
    "    Retangulo(16, 10),\n",
    "    Quadrado(2)\n",
    "])\n",
    "\n",
    "\n",
    "for x in geometria.lista:\n",
    "    print(f'Figura: {type(x).__name__} \\nArea: {x.area()}\\n')"
   ]
  },
  {
   "cell_type": "code",
   "execution_count": null,
   "metadata": {},
   "outputs": [],
   "source": []
  },
  {
   "cell_type": "markdown",
   "metadata": {},
   "source": [
    "3 - Jogo de Blacjack: Faça um joguinho simples em Python.\n",
    "Aqui estão os requisitos:\n",
    "- Você precisa criar um jogo de BlackJack (21) baseado em texto simples\n",
    "- O jogo precisa ter um jogador contra um croupier automatizado.\n",
    "- O jogador pode desistir ou bater.\n",
    "- O jogador deve ser capaz de escolher o seu valor de aposta.\n",
    "- Você precisa acompanhar o dinheiro total do jogador.\n",
    "- Você precisa alertar o jogador de vitórias, derrotas ou estouros, etc ..."
   ]
  },
  {
   "cell_type": "code",
   "execution_count": null,
   "metadata": {},
   "outputs": [
    {
     "name": "stdin",
     "output_type": "stream",
     "text": [
      "Digite a quantidade total de dinheiro:  10\n",
      "Digite o valor da aposta:  5\n"
     ]
    },
    {
     "name": "stdout",
     "output_type": "stream",
     "text": [
      "O Coupier tem a seguinte carta: ['6', 'paus']\n",
      "Suas cartas são: [['6', 'espadas'], ['Q', 'copas']]\n"
     ]
    },
    {
     "name": "stdin",
     "output_type": "stream",
     "text": [
      "\n",
      "O que deseja fazer?,\n",
      "0 - Permanecer do modo que está,\n",
      "1 - Pedir mais uma carta\n",
      "2 - Desistir\n",
      " 1\n"
     ]
    },
    {
     "name": "stdout",
     "output_type": "stream",
     "text": [
      "\n",
      "Sua mão: [['6', 'espadas'], ['Q', 'copas'], ['7', 'espadas']]\n",
      "Pontuação: 23\n",
      "Voce estourou com 23 pontos\n",
      "\n",
      "Dinheiro atual: R$5.0\n"
     ]
    }
   ],
   "source": [
    "import random\n",
    "\n",
    "class Deck:\n",
    "    \n",
    "    def __init__(self):\n",
    "        valores = ['A', '2', '3', '4', '5', '6', '7', '8', '9', '10', 'J', 'Q', 'K']\n",
    "        naipes = ['paus', 'copas', 'ouros', 'espadas']\n",
    "        self.cartas = [[y, x] for x in naipes for y in valores]\n",
    "        random.shuffle(self.cartas) \n",
    "        \n",
    "    def pop_carta(self):\n",
    "        return self.cartas.pop()\n",
    "\n",
    "class MaoJogador:\n",
    "    \n",
    "    def __init__(self):\n",
    "        self.cartas = []\n",
    "        \n",
    "    def adicionar_carta(self, carta):\n",
    "        return self.cartas.append(carta)\n",
    "    \n",
    "    def get_cartas(self):\n",
    "        return self.cartas\n",
    "    \n",
    "    def calcular_pontos(self):\n",
    "        valor_das_cartas_da_mao = []\n",
    "        for i, carta in enumerate(self.cartas):\n",
    "            valor = carta[0]\n",
    "            if valor == 'A':\n",
    "                valor = 11\n",
    "            elif valor in 'JQK':\n",
    "                valor = 10\n",
    "            valor_das_cartas_da_mao.append(int(valor))\n",
    "        valor_total = sum(valor_das_cartas_da_mao)\n",
    "        if valor_total > 21:\n",
    "            for i, carta in enumerate(self.cartas):\n",
    "                if carta == 'A':\n",
    "                    valor_das_cartas_da_mao[i] = 1\n",
    "        return sum(valor_das_cartas_da_mao)\n",
    "            \n",
    "\n",
    "resposta = -1\n",
    "dinheiro = float(input('Digite a quantidade total de dinheiro: '))\n",
    "dinheiro_inicial = dinheiro\n",
    "opcao = 1\n",
    "while opcao != 0 and dinheiro > 0:\n",
    "    if opcao == 1:\n",
    "        aposta = float(input('Digite o valor da aposta: '))\n",
    "        while aposta > dinheiro:\n",
    "            aposta = float(input('Digite um valor de aposta menor ou igual ao seu dinheiro: '))\n",
    "            \n",
    "        deck = Deck()\n",
    "        dealer_hand = MaoJogador()\n",
    "        mao_jogador = MaoJogador()\n",
    "        \n",
    "        for i in range(2):\n",
    "            dealer_hand.adicionar_carta(deck.pop_carta())\n",
    "            mao_jogador.adicionar_carta(deck.pop_carta())\n",
    "            \n",
    "        print(f'O Coupier tem a seguinte carta: {dealer_hand.get_cartas()[0]}')\n",
    "        print(f'Suas cartas são: {mao_jogador.get_cartas()}')\n",
    "        while opcao == 1:            \n",
    "            opcao = int(input('\\nO que deseja fazer?,\\n0 - Permanecer do modo que está,\\n1 - Pedir mais uma carta\\n2 - Desistir\\n'))\n",
    "            if opcao == 0:\n",
    "                print(f'\\nMão completa do Coupier: {dealer_hand.get_cartas()}')\n",
    "                dealer_hand_pontos = dealer_hand.calcular_pontos()\n",
    "                mao_jogador_pontos = mao_jogador.calcular_pontos()\n",
    "                if mao_jogador_pontos < dealer_hand_pontos:\n",
    "                    mensagem = 'Você perdeu, o'\n",
    "                    dinheiro -= aposta\n",
    "                elif mao_jogador_pontos > dealer_hand_pontos:\n",
    "                    mensagem = 'Você ganhou! O'\n",
    "                    dinheiro += aposta\n",
    "                else:\n",
    "                    mensagem = 'Empate. O'\n",
    "                print(mensagem, f'dealer tinha {dealer_hand_pontos} pontos e você tinha {mao_jogador_pontos} pontos')\n",
    "            elif opcao == 1:\n",
    "              mao_jogador.adicionar_carta(deck.pop_carta())\n",
    "              pontuacao = mao_jogador.calcular_pontos()\n",
    "              print(f'\\nSua mão: {mao_jogador.get_cartas()}')\n",
    "              print(f'Pontuação: {pontuacao}')\n",
    "              if pontuacao > 21:\n",
    "                print(f'Voce estourou com {pontuacao} pontos')\n",
    "                dinheiro -= aposta\n",
    "                opcao = 0\n",
    "            elif opcao == 2:\n",
    "              dinheiro -= aposta/2         \n",
    "    elif opcao == 2:\n",
    "        dinheiro += float(input('Digite o valor que deseja acrescentar: '))\n",
    "        \n",
    "    print(f'\\nDinheiro atual: R${dinheiro}')\n",
    "    opcao = int(input('\\nO que deseja fazer?\\n1 - Jogar mais uma\\n2- Colocar mais dinheiro\\n0 - Sair\\n'))\n",
    "    \n",
    "                  \n",
    "                  \n",
    "                  \n",
    "print(f'Você começou com R${dinheiro_inicial} e terminou com R${dinheiro}, sendo assim seu lucro foi de R${dinheiro - dinheiro_inicial}')"
   ]
  }
 ],
 "metadata": {
  "kernelspec": {
   "display_name": "Python 3 (Anaconda 5)",
   "language": "python",
   "name": "anaconda5"
  },
  "language_info": {
   "name": ""
  }
 },
 "nbformat": 4,
 "nbformat_minor": 2
}
