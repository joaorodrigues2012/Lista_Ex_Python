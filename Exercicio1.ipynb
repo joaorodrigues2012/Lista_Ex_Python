{
 "cells": [
  {
   "cell_type": "markdown",
   "metadata": {},
   "source": [
    "1-Faça um Programa que peça o raio de um círculo, calcule e mostre sua área."
   ]
  },
  {
   "cell_type": "code",
   "execution_count": 2,
   "metadata": {},
   "outputs": [
    {
     "name": "stdout",
     "output_type": "stream",
     "text": [
      "Digite o raio: 10\n",
      "A área do círculo de raio 10 é 3.1e+02\n"
     ]
    }
   ],
   "source": [
    "import math\n",
    "raio = int(input (\"Digite o raio: \"))\n",
    "#type (raio)\n",
    "area = math.pi * (raio ** 2)\n",
    "print (f'A área do círculo de raio {raio} é {area:{5}.{2}}')"
   ]
  },
  {
   "cell_type": "code",
   "execution_count": null,
   "metadata": {},
   "outputs": [],
   "source": []
  },
  {
   "cell_type": "markdown",
   "metadata": {},
   "source": [
    "2 - Faça um Programa que calcule a área de um quadrado, em seguida mostre o dobro\n",
    "desta área para o usuário.\n"
   ]
  },
  {
   "cell_type": "code",
   "execution_count": 7,
   "metadata": {},
   "outputs": [
    {
     "name": "stdout",
     "output_type": "stream",
     "text": [
      "Digite o valor do lado do quadrado: 5\n",
      "O valor da area é 25\n"
     ]
    }
   ],
   "source": [
    "lado = int(input(\"Digite o valor do lado do quadrado: \"))\n",
    "area = lado*lado\n",
    "print(f'O valor da area é {area}')"
   ]
  },
  {
   "cell_type": "code",
   "execution_count": null,
   "metadata": {},
   "outputs": [],
   "source": []
  },
  {
   "cell_type": "markdown",
   "metadata": {},
   "source": [
    "3 - Faça um Programa que pergunte quanto você ganha por hora e o número de horas trabalhadas no mês. Calcule e mostre o total do seu salário no referido mês."
   ]
  },
  {
   "cell_type": "code",
   "execution_count": 8,
   "metadata": {},
   "outputs": [
    {
     "name": "stdout",
     "output_type": "stream",
     "text": [
      "Digite o valor da hora: 5\n",
      "Digite a quantidade de horas trabalhadas: 2\n",
      "Com valor de hora 5.00 e tendo trabalhado 2.00 horas, você ganhará 10.00\n",
      "\n"
     ]
    }
   ],
   "source": [
    "valor_hora = float (input (\"Digite o valor da hora: \"))\n",
    "numero_horas = float (input (\"Digite a quantidade de horas trabalhadas: \"))\n",
    "total = valor_hora * numero_horas\n",
    "print ('Com valor de hora %.2f e tendo trabalhado %.2f horas, você ganhará %.2f\\n' % (valor_hora, numero_horas, total))"
   ]
  },
  {
   "cell_type": "code",
   "execution_count": null,
   "metadata": {},
   "outputs": [],
   "source": []
  },
  {
   "cell_type": "markdown",
   "metadata": {},
   "source": [
    "4 - Faça um Programa que peça a temperatura em graus Farenheit, transforme e\n",
    "mostre a temperatura em graus Celsius. C = (5 * (F-32) / 9)."
   ]
  },
  {
   "cell_type": "code",
   "execution_count": 10,
   "metadata": {},
   "outputs": [
    {
     "name": "stdout",
     "output_type": "stream",
     "text": [
      "Digite o valor da temperatura em Farenheit: 50.7\n",
      "O valor em Celsius é 10.39\n"
     ]
    }
   ],
   "source": [
    "temp_f = float(input(\"Digite o valor da temperatura em Farenheit: \"))\n",
    "temp_c = (5*(temp_f-32)/9) \n",
    "print('O valor em Celsius é %.2f' %temp_c)"
   ]
  },
  {
   "cell_type": "code",
   "execution_count": null,
   "metadata": {},
   "outputs": [],
   "source": []
  },
  {
   "cell_type": "markdown",
   "metadata": {},
   "source": [
    "5 - Faça um Programa que peça a temperatura em graus Celsius, transforme e mostre\n",
    "em graus Farenheit."
   ]
  },
  {
   "cell_type": "code",
   "execution_count": null,
   "metadata": {},
   "outputs": [],
   "source": [
    "temp_c = float(input(\"Digite o valor da temperatura em Celsius: \"))\n",
    "temp_f = (5/(temp_c+32)*9) \n",
    "print('O valor em Farenheit é %.2f' %temp_f)"
   ]
  },
  {
   "cell_type": "code",
   "execution_count": null,
   "metadata": {},
   "outputs": [],
   "source": []
  },
  {
   "cell_type": "markdown",
   "metadata": {},
   "source": [
    "6 - Faça um Programa que peça 2 números inteiros e um número real. Calcule e mostre:\n",
    "- o produto do dobro do primeiro com metade do segundo .\n",
    "- a soma do triplo do primeiro com o terceiro.\n",
    "- o terceiro elevado ao cubo."
   ]
  },
  {
   "cell_type": "code",
   "execution_count": 13,
   "metadata": {},
   "outputs": [
    {
     "name": "stdout",
     "output_type": "stream",
     "text": [
      "Digite o primeiro numero: 2\n",
      "Digite o segundo numero: 2\n",
      "Digite o terceiro numero: 2\n",
      "O valor do produto do dobro do primeiro com metade do segundo é 4.00\n",
      "a soma do triplo do primeiro com o terceiro é: 8.00\n",
      " o terceiro elevado ao cubo é: 8.00\n"
     ]
    }
   ],
   "source": [
    "num1 = int(input(\"Digite o primeiro numero: \"))\n",
    "num2 = int(input(\"Digite o segundo numero: \"))\n",
    "num3 = float(input(\"Digite o terceiro numero: \"))\n",
    "dob = (num1*num1)*(num2/2)\n",
    "sm = (num1*3)+num3\n",
    "tri = num3**3\n",
    "print(f'O valor do produto do dobro do primeiro com metade do segundo é %.2f\\na soma do triplo do primeiro com o terceiro é: %.2f\\n o terceiro elevado ao cubo é: %.2f' %(dob,sm,tri))"
   ]
  },
  {
   "cell_type": "code",
   "execution_count": null,
   "metadata": {},
   "outputs": [],
   "source": []
  },
  {
   "cell_type": "markdown",
   "metadata": {},
   "source": [
    "7 - João Papo-de-Pescador, homem de bem, comprou um microcomputador para\n",
    "controlar o rendimento diário de seu trabalho. Toda vez que ele traz um peso de\n",
    "peixes maior que o estabelecido pelo regulamento de pesca do estado de São Paulo\n",
    "(50 quilos) deve pagar uma multa de R$ 4,00 por quilo excedente. João precisa que\n",
    "você faça um programa que leia a variável peso (peso de peixes) e verifique se há\n",
    "excesso. Se houver, gravar na variável excesso e na variável multa o valor da multa\n",
    "que João deverá pagar. Caso contrário mostrar tais variáveis com o conteúdo ZERO."
   ]
  },
  {
   "cell_type": "code",
   "execution_count": 14,
   "metadata": {},
   "outputs": [
    {
     "name": "stdout",
     "output_type": "stream",
     "text": [
      "Digite o peso de peixes: 10\n",
      "Excesso: 0, Multa: 0\n"
     ]
    }
   ],
   "source": [
    "peso_peixes = float (input (\"Digite o peso de peixes: \"))\n",
    "excesso = 0\n",
    "multa = 0\n",
    "if peso_peixes > 50:\n",
    "    excesso = peso_peixes - 50\n",
    "    multa = 4 * excesso\n",
    "print ('Excesso: {}, Multa: {}'.format(excesso, multa))"
   ]
  },
  {
   "cell_type": "code",
   "execution_count": null,
   "metadata": {},
   "outputs": [],
   "source": []
  },
  {
   "cell_type": "markdown",
   "metadata": {},
   "source": [
    "8 -  Faça um Programa que pergunte quanto você ganha por hora e o número de horas\n",
    "trabalhadas no mês. Calcule e mostre o total do seu salário no referido mês,\n",
    "sabendo-se que são descontados 11% para o Imposto de Renda, 8% para o INSS e 5%\n",
    "para o sindicato, faça um programa que nos dê:\n",
    "- salário bruto.\n",
    "- quanto pagou ao INSS.\n",
    "- quanto pagou ao sindicato.\n",
    "- o salário líquido.\n",
    "- calcule os descontos e o salário líquido, conforme a tabela abaixo:\n",
    " + Salário Bruto : R$\n",
    " - IR (11%) : R$\n",
    " - INSS (8%) : R$\n",
    " - Sindicato ( 5%) : R$\n",
    " = Salário Liquido : R$\n",
    "Obs.: Salário Bruto - Descontos = Salário Líquido."
   ]
  },
  {
   "cell_type": "code",
   "execution_count": 29,
   "metadata": {},
   "outputs": [
    {
     "name": "stdout",
     "output_type": "stream",
     "text": [
      "Quanto você guanha por hora: 10\n",
      "Quantas horas você trabalhou: 5\n",
      "Seu salário bruto é 50.0\n",
      "Valor dos impostos:\n",
      "IR:  5.5\n",
      "INSS:  4.0\n",
      "Sindicato:  2.5\n",
      "Seu salário liquido é:  38.0\n"
     ]
    }
   ],
   "source": [
    "qH = float(input(\"Quanto você guanha por hora: \"))\n",
    "hT = float(input(\"Quantas horas você trabalhou: \"))\n",
    "salarioB = qH * hT\n",
    "ir = (11/100.0 * salarioB)\n",
    "inss = (8/100.0 * salarioB)\n",
    "sindicato = (5/100.0 * salarioB)\n",
    "vT = ir + inss + sindicato\n",
    "salarioL = salarioB - vT\n",
    "print ('Seu salário bruto é',salarioB)\n",
    "print ('Valor dos impostos:')\n",
    "print ('IR: ',ir)\n",
    "print ('INSS: ',inss)\n",
    "print ('Sindicato: ',sindicato)\n",
    "print ('Seu salário liquido é: ',salarioL)"
   ]
  },
  {
   "cell_type": "code",
   "execution_count": null,
   "metadata": {},
   "outputs": [],
   "source": []
  },
  {
   "cell_type": "markdown",
   "metadata": {},
   "source": [
    "9 - Faça um programa que leia 2 strings e informe o conteúdo delas seguido do seu\n",
    "comprimento. Informe também se as duas strings possuem o mesmo comprimento e\n",
    "são iguais ou diferentes no conteúdo.\n",
    "Exemplo:\n",
    "String 1: Brasil Hexa 2018\n",
    "String 2: Brasil! Hexa 2018!\n",
    "Tamanho de \"Brasil Hexa 2018\": 16 caracteres\n",
    "Tamanho de \"Brasil! Hexa 2018!\": 18 caracteres\n",
    "As duas strings são de tamanhos diferentes.\n",
    "As duas strings possuem conteúdo diferente. "
   ]
  },
  {
   "cell_type": "code",
   "execution_count": 25,
   "metadata": {},
   "outputs": [
    {
     "name": "stdout",
     "output_type": "stream",
     "text": [
      "Digite uma palavra: victor\n",
      "Digite outra palavra: asd\n",
      "6  caracteres\n",
      "3  caracteres\n",
      "Sao diferentes!\n",
      "Nao possuem o mesmo tamanho!\n"
     ]
    }
   ],
   "source": [
    "s1 =input(\"Digite uma palavra: \")\n",
    "s2 = input(\"Digite outra palavra: \")\n",
    "s11 = []\n",
    "s22 = []\n",
    "for letra in s1:\n",
    "\ts11.append(letra)\n",
    "print(len(s1),' caracteres')\n",
    "print(len(s2),' caracteres')\n",
    "for letra in s2:\n",
    "\ts22.append(letra)\n",
    "if(s11 == s22):\n",
    "\tprint(\"Sao iguais!\")\n",
    "else:\n",
    "\tprint(\"Sao diferentes!\")\n",
    "\n",
    "if (len(s1) == len(s2)):\n",
    "\tprint(\"Possuem o mesmo tamanho!\")\n",
    "else:\n",
    "\tprint(\"Nao possuem o mesmo tamanho!\")\n"
   ]
  },
  {
   "cell_type": "markdown",
   "metadata": {},
   "source": [
    "10 - Faça um programa que permita ao usuário digitar o seu nome e em seguida\n",
    "mostre o nome do usuário de trás para frente utilizando somente letras maiúsculas.\n",
    "Dica: lembre−se que ao informar o nome o usuário pode digitar letras maiúsculas ou\n",
    "minúsculas. Observação: não use loops."
   ]
  },
  {
   "cell_type": "code",
   "execution_count": 1,
   "metadata": {},
   "outputs": [
    {
     "name": "stdout",
     "output_type": "stream",
     "text": [
      "Escreva seu nome: victor\n",
      "ROTCIV\n"
     ]
    }
   ],
   "source": [
    "nome = input(\"Escreva seu nome: \")\n",
    "nome = nome.upper()\n",
    "print(nome[::-1])"
   ]
  },
  {
   "cell_type": "markdown",
   "metadata": {},
   "source": [
    "11 - Faça um programa que solicite a data de nascimento (dd/mm/aaaa) do usuário e\n",
    "imprima a data com o nome do mês por extenso.\n",
    "Data de Nascimento: 29/10/1973\n",
    "Você nasceu em 29 de Outubro de 1973.\n",
    "Obs.: Não use desvio condicional nem loops."
   ]
  },
  {
   "cell_type": "code",
   "execution_count": 22,
   "metadata": {},
   "outputs": [
    {
     "name": "stdout",
     "output_type": "stream",
     "text": [
      "Digite o dia do seu nascimento: 25\n",
      "Digite o mes do seu nascimento: 07\n",
      "Digite o ano do seu nascimento: 2018\n",
      "Data de Nascimento:25/7/2018\n",
      "Você nasceu em 25 de Julho de 2018\n"
     ]
    }
   ],
   "source": [
    "meses = {1: 'Janeiro',2: 'Fevereiro',3: 'Marco',4: 'Abril',5: 'Maio',6: 'Junho',7: 'Julho',8: 'Agosto',9: 'Setembro',10: 'Outubro',11: 'Novembro',12: 'Dezembro'}\n",
    "dia = int(input(\"Digite o dia do seu nascimento: \"))\n",
    "mes = int(input(\"Digite o mes do seu nascimento: \"))\n",
    "ano = int(input(\"Digite o ano do seu nascimento: \"))\n",
    "mes_aniver = meses[mes];\n",
    "print ('Data de Nascimento:'+str(dia)+'/'+str(mes)+'/'+str(ano))\n",
    "print(f'Você nasceu em {dia} de {mes_aniver} de {ano}') "
   ]
  },
  {
   "cell_type": "code",
   "execution_count": null,
   "metadata": {},
   "outputs": [],
   "source": []
  },
  {
   "cell_type": "markdown",
   "metadata": {},
   "source": [
    "12 - Leet é uma forma de se escrever o alfabeto latino usando outros símbolos em\n",
    "lugar das letras, como números por exemplo. A própria palavra leet admite muitas\n",
    "variações, como l33t ou 1337. O uso do leet reflete uma subcultura relacionada ao\n",
    "mundo dos jogos de computador e internet, sendo muito usada para confundir os\n",
    "iniciantes e afirmar-se como parte de um grupo. Pesquise sobre as principais formas\n",
    "de traduzir as letras. Depois, faça um programa que peça uma texto e transforme-o\n",
    "para a grafia leet speak.\n",
    "Desafio: não use loops nem desvios condicionais."
   ]
  },
  {
   "cell_type": "code",
   "execution_count": null,
   "metadata": {},
   "outputs": [],
   "source": []
  }
 ],
 "metadata": {
  "kernelspec": {
   "display_name": "Python 3",
   "language": "python",
   "name": "python3"
  },
  "language_info": {
   "codemirror_mode": {
    "name": "ipython",
    "version": 3
   },
   "file_extension": ".py",
   "mimetype": "text/x-python",
   "name": "python",
   "nbconvert_exporter": "python",
   "pygments_lexer": "ipython3",
   "version": "3.7.0"
  }
 },
 "nbformat": 4,
 "nbformat_minor": 2
}
