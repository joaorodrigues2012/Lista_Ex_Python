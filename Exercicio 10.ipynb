{
 "cells": [
  {
   "cell_type": "markdown",
   "metadata": {},
   "source": [
    "1 - Implemente um gerador infinito de números primos.\n",
    "Ex:\n",
    "i = 0\n",
    "while i < 10:\n",
    " print(gera_primos())\n",
    "i += 1\n",
    "Este código imprime os 10 primeiros números primos, isto é: 1, 2, 3, 5, 7, 11, 13, 17,\n",
    "19, 23.\n"
   ]
  },
  {
   "cell_type": "code",
   "execution_count": null,
   "metadata": {},
   "outputs": [],
   "source": [
    "import math\n",
    "i = 0\n",
    "primos = [2, 3]\n",
    "\n",
    "def eh_primo(num):\n",
    "    if num < 2:\n",
    "        return False\n",
    "    for i in primos:\n",
    "        if num % i == 0:\n",
    "            return False\n",
    "        if i > math.sqrt(num):\n",
    "            primos.append(num)\n",
    "            return True\n",
    "    primos.append(num)\n",
    "    return True\n",
    "\n",
    "def gera_primos():       \n",
    "    yield 2\n",
    "    yield 3\n",
    "    num = 3\n",
    "    while True:\n",
    "        num += 2\n",
    "        if eh_primo(num):\n",
    "            yield num\n",
    "\n",
    "\n",
    "\n",
    "c = gera_primos();\n",
    "for c in c:\n",
    "    print(c)"
   ]
  },
  {
   "cell_type": "code",
   "execution_count": null,
   "metadata": {},
   "outputs": [],
   "source": []
  },
  {
   "cell_type": "markdown",
   "metadata": {},
   "source": [
    "2 -Implementar um gerador que leia um arquivo e retorne uma lista de tuplas com os\n",
    "dados (o separador de campo do arquivo é virgula), eliminando as linhas vazias. Caso\n",
    "ocorra algum problema, imprima uma mensagem de aviso e encerre o programa.\n",
    "Use o exemplo abaixo como arquivo de entrada:\n",
    "    Ex:\n",
    "Entrada:\n",
    "teste.txt\n",
    "1,vermelho,2,verde,3,amarelo,4,roxo\n",
    "5,verde,6,preto,7,laranja,8,amarelo\n",
    "9,preto,10,roxo,11,roxo,12,branco\n",
    "Chamada:\n",
    "gera_tupla(teste.txt)\n",
    "Retorno:\n",
    "[(1,'vermelho'),(2,'verde'),(3,'amarelo'),(4,'roxo'),\n",
    "(5,'verde'),(6,'preto'),(7,'laranja'),(8,'amarelo'),\n",
    "(9,'preto'),(10,'roxo'),(11,'roxo'),(12,'branco')]\n"
   ]
  },
  {
   "cell_type": "code",
   "execution_count": 1,
   "metadata": {},
   "outputs": [
    {
     "name": "stdout",
     "output_type": "stream",
     "text": [
      "[(1, 'vermelho'), (2, 'verde'), (3, 'amarelo'), (4, 'roxo'), (5, 'verde'), (6, 'preto'), (7, 'laranja'), (8, 'amarelo'), (9, 'preto'), (10, 'roxo'), (11, 'roxo'), (12, 'branco')]\n"
     ]
    }
   ],
   "source": [
    "def gera_tupla(nomeArquivo):\n",
    "    tuplas = []\n",
    "    conteudo = \"\"\n",
    "    arquivo = open(nomeArquivo)\n",
    "    linhaArquivo = arquivo.readline()\n",
    "    while linhaArquivo:\n",
    "        linha = linhaArquivo.split(\",\")\n",
    "        linha[len(linha) - 1] = linha[len(linha) - 1].strip()\n",
    "        for i in range(0, len(linha), 2):\n",
    "            tuplas.append((int(linha[i]), linha[i + 1]))\n",
    "        linhaArquivo = arquivo.readline()\n",
    "    arquivo.close()\n",
    "    yield tuplas;\n",
    "\n",
    "saida = gera_tupla(\"arquivo.txt\").send(None)\n",
    "print(saida)"
   ]
  },
  {
   "cell_type": "code",
   "execution_count": null,
   "metadata": {},
   "outputs": [],
   "source": []
  },
  {
   "cell_type": "markdown",
   "metadata": {},
   "source": [
    "3 - Implementar dois geradores e rodá-los em paralelo (coroutine) para processar dois\n",
    "arquivos e gerar tuplas. O primeiro é similar ao do exercício 2. O segundo processa\n",
    "outro arquivo, também separado por vírgulas. No final, a lista gerada deve conter\n",
    "tuplas com 3 elementos. Use o exemplo baixo como base:\n",
    "    Entrada:\n",
    "teste1.txt\n",
    "1,vermelho,2,verde,3,amarelo,4,roxo\n",
    "5,verde,6,preto,7,laranja,8,amarelo\n",
    "9,preto,10,roxo,11,roxo,12,branco\n",
    "teste2.txt\n",
    "0,1,0,0\n",
    "1,1,1,0\n",
    "1,0,0,1\n",
    "Chamada:\n",
    "gera_tupla1(teste1.txt), gera_tupla2(teste2.txt)\n",
    "Retorno:\n",
    "[(1,'vermelho',False),(2,'verde',True),(3,'amarelo',False),\n",
    "(4,'roxo',False),(5,'verde',True),(6,'preto',True),\n",
    "(7,'laranja',True),(8,'amarelo',False),(9,'preto',True),\n",
    "(10,'roxo',False),(11,'roxo',False),(12,'branco',True)]"
   ]
  },
  {
   "cell_type": "code",
   "execution_count": 30,
   "metadata": {},
   "outputs": [
    {
     "name": "stdout",
     "output_type": "stream",
     "text": [
      "[(1, 'vermelho'), (2, 'verde'), (3, 'amarelo'), (4, 'roxo'), (5, 'verde'), (6, 'preto'), (7, 'laranja'), (8, 'amarelo'), (9, 'preto'), (10, 'roxo'), (11, 'roxo'), (12, 'branco')] ['False', 'True', 'False', 'True', 'True', 'False', 'False', 'True']\n"
     ]
    }
   ],
   "source": [
    "def gerar_aquivo1(text):\n",
    "    tuplas = []\n",
    "    conteudo = \"\"\n",
    "    arquivo = open(nomeArquivo)\n",
    "    linhaArquivo = arquivo.readline()\n",
    "    while linhaArquivo:\n",
    "        linha = linhaArquivo.split(\",\")\n",
    "        linha[len(linha) - 1] = linha[len(linha) - 1].strip()\n",
    "        for i in range(0, len(linha), 2):\n",
    "            tuplas.append((int(linha[i]), linha[i + 1]))\n",
    "        linhaArquivo = arquivo.readline()\n",
    "    arquivo.close()\n",
    "    yield tuplas;\n",
    "\n",
    "            \n",
    "def gerar_aquivo2(numbers):\n",
    "    numbers = open(numbers,'r').read().replace('\\n','').split(',')\n",
    "    new_text = []\n",
    "    for i in numbers:\n",
    "        if i == '0':\n",
    "            new_text.append('False')\n",
    "            #yield 'False'\n",
    "        elif i== '1':\n",
    "            new_text.append('True')\n",
    "            #yield 'True'\n",
    "    yield new_text\n",
    "\n",
    "c2 = gerar_aquivo2(\"numeros.txt\")\n",
    "saida = gera_tupla(\"arquivo.txt\").send(None)\n",
    "print(saida,next(c2))\n",
    "# for i, (f, t) in enumerate(zip(gerar_aquivo1('arquivo.txt'), gerar_aquivo2('numeros.txt'))):\n",
    "#     if i == 10:\n",
    "#         break\n",
    "#     print(str(f),',', t)"
   ]
  },
  {
   "cell_type": "code",
   "execution_count": null,
   "metadata": {},
   "outputs": [],
   "source": []
  },
  {
   "cell_type": "markdown",
   "metadata": {},
   "source": [
    "4 - Escreva um generator que crie um fluxo infinito de inteiros a partir de um valor\n",
    "inicial dado com passo 5.\n",
    "Ex: gera_inteiros(7) = 12, 17, 22, 27, ..."
   ]
  },
  {
   "cell_type": "code",
   "execution_count": null,
   "metadata": {},
   "outputs": [],
   "source": [
    "recv = 0\n",
    "def gerar_inteiros(num):\n",
    "    recv = num + 5\n",
    "    yield recv\n",
    "    while True:\n",
    "        recv =  recv + 5\n",
    "        yield recv\n",
    "    \n",
    "g = gerar_inteiros(7)\n",
    "\n",
    "for g in g:\n",
    "    print(g)"
   ]
  }
 ],
 "metadata": {
  "kernelspec": {
   "display_name": "Python 3",
   "language": "python",
   "name": "python3"
  },
  "language_info": {
   "codemirror_mode": {
    "name": "ipython",
    "version": 3
   },
   "file_extension": ".py",
   "mimetype": "text/x-python",
   "name": "python",
   "nbconvert_exporter": "python",
   "pygments_lexer": "ipython3",
   "version": "3.7.1"
  }
 },
 "nbformat": 4,
 "nbformat_minor": 2
}
