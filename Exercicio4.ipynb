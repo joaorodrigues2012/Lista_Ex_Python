{
 "cells": [
  {
   "cell_type": "markdown",
   "metadata": {},
   "source": [
    "1-  Escreva uma função que retorne o menor de dois números\n",
    "dados se ambos os números forem pares, mas retorna o maior se um dos dois for\n",
    "ímpar. Exemplo:\n",
    "menor_de_dois_pares(2,4) --> 2\n",
    "menor_de_dois_pares (2,5) --> 5"
   ]
  },
  {
   "cell_type": "code",
   "execution_count": 4,
   "metadata": {},
   "outputs": [
    {
     "name": "stdout",
     "output_type": "stream",
     "text": [
      "Digite o primeiro numero: 2\n",
      "Digite o primeiro numero: 4\n",
      "menor de dois pares(2.0,4.0) --> 2.0\n"
     ]
    }
   ],
   "source": [
    "def menor_de_dois_pares(num1, num2):\n",
    "    if(num1 % 2 == 0 and num2 % 2 == 0):\n",
    "        if num1<num2:\n",
    "            print(f'menor de dois pares({num1},{num2}) --> {num1}')\n",
    "        else:\n",
    "            print(f'menor de dois pares({num1},{num2}) --> {num2}')\n",
    "    else:\n",
    "        if num1 > num2:\n",
    "            print(f'menor de dois pares({num1},{num2}) --> {num1}')\n",
    "        else:\n",
    "            print(f'menor de dois pares({num1},{num2}) --> {num2}')\n",
    "            \n",
    "num1 = float(input(\"Digite o primeiro numero: \"))\n",
    "num2 = float(input(\"Digite o primeiro numero: \"))\n",
    "menor_de_dois_pares(num1, num2)"
   ]
  },
  {
   "cell_type": "code",
   "execution_count": null,
   "metadata": {},
   "outputs": [],
   "source": []
  },
  {
   "cell_type": "markdown",
   "metadata": {},
   "source": [
    "2 - Mesma letra: Escreva uma função que receba uma string com duas palavras e\n",
    "retorne True se ambas palavras começarem com a mesma letra. Exemplo:\n",
    "mesma_letra('Cão covarde') -> True\n",
    "mesma_letra('Vira Lata') -> False"
   ]
  },
  {
   "cell_type": "code",
   "execution_count": 11,
   "metadata": {},
   "outputs": [
    {
     "name": "stdout",
     "output_type": "stream",
     "text": [
      "Digite duas palavras: Cão covarde\n",
      "mesma_letra(Cão covarde) -> True\n"
     ]
    }
   ],
   "source": [
    "def mesma_letra(string):\n",
    "    palavra1, palavra2 = string.split()\n",
    "    if palavra1[0].lower() == palavra2[0].lower():\n",
    "        print (f'mesma_letra({string}) ->', True)\n",
    "    else:\n",
    "         print (f'mesma_letra({string}) ->', False)\n",
    "\n",
    "palavra = input(\"Digite duas palavras: \")\n",
    "mesma_letra(palavra)"
   ]
  },
  {
   "cell_type": "code",
   "execution_count": null,
   "metadata": {},
   "outputs": [],
   "source": []
  },
  {
   "cell_type": "markdown",
   "metadata": {},
   "source": [
    "3 - Mestre Yoda: Dada uma sentença, a função deve retornar a sentença com as\n",
    "palavras na ordem reversa. Exemplo:\n",
    "mestre_yoda('Eu estou em casa') --> 'casa em estou Eu'\n",
    "mestre_yoda('Estamos prontos') --> 'prontos Estamos'"
   ]
  },
  {
   "cell_type": "code",
   "execution_count": 47,
   "metadata": {},
   "outputs": [
    {
     "name": "stdout",
     "output_type": "stream",
     "text": [
      "mestre_yoda(Daniel Oliveira) --> Oliveira Daniel \n"
     ]
    }
   ],
   "source": [
    "def mestre_yoda(string):\n",
    "    palavra =string.split()\n",
    "    palavra.reverse()\n",
    "    palavraAoContrario = \"\"\n",
    "    for p in range(0,len(palavra)):\n",
    "        palavraAoContrario += palavra[p]+\" \"\n",
    "    print(f'mestre_yoda({string}) -->',palavraAoContrario)\n",
    "\n",
    "mestre_yoda(\"Daniel Oliveira\")"
   ]
  },
  {
   "cell_type": "code",
   "execution_count": null,
   "metadata": {},
   "outputs": [],
   "source": []
  },
  {
   "cell_type": "markdown",
   "metadata": {},
   "source": [
    "4 - Tem 33: Faça uma função que retorne True se, dada uma lista de inteiros, houver\n",
    "em alguma posição da lista um 3 do lado de outro 3. Exemplo:"
   ]
  },
  {
   "cell_type": "code",
   "execution_count": null,
   "metadata": {},
   "outputs": [],
   "source": [
    "def acha_33(lista):\n",
    "    estado = \"\"\n",
    "    for n in lista:\n",
    "        if n == 3 and estado == \"\":\n",
    "            estado = \"3\"\n",
    "        elif n == 3 and estado == \"3\":\n",
    "            estado = \"33\"\n",
    "            print(\"Tem 33\")\n",
    "            break\n",
    "        else:\n",
    "            erro = \"Não exite 33\"\n",
    "    else:\n",
    "        print(erro)\n",
    "            \n",
    "acha_33([1,2,2,4,3,4])\n",
    "acha_33([1,2,2,4,3,3])"
   ]
  },
  {
   "cell_type": "code",
   "execution_count": null,
   "metadata": {},
   "outputs": [],
   "source": []
  },
  {
   "cell_type": "markdown",
   "metadata": {},
   "source": [
    "5 -  Blackjack: Faça uma função que receba 3 inteiros entre 1 e 11. Se a soma deles for\n",
    "menor que 21, retorne o valor da soma. Se for mair do que 21 e houver um 11, \n",
    "subtraia 10 da soma antes de apresentar o resultado. Se o valor da soma passar de\n",
    "21, retorne ‘ESTOUROU’. Exemplo:\n",
    "blackjack(5,6,7) --> 18\n",
    "blackjack(9,9,9) --> 'ESTOUROU'\n",
    "blackjack(9,9,11) --> 19\n"
   ]
  },
  {
   "cell_type": "code",
   "execution_count": 10,
   "metadata": {},
   "outputs": [
    {
     "name": "stdout",
     "output_type": "stream",
     "text": [
      "Digite o primeiro numero: 9\n",
      "Digite o primeiro numero: 9\n",
      "Digite o primeiro numero: 11\n",
      "blackjack(9,9,11) --> 19\n"
     ]
    }
   ],
   "source": [
    "def blackjack(num1,num2,num3):\n",
    "    somaNum = num1+num2+num3\n",
    "    if(1 <= num1 <=11 and 1 <= num2 <=11 and 1 <= num3 <=11):\n",
    "        if somaNum <= 21:\n",
    "            print(f'blackjack({num1},{num2},{num3}) -->',somaNum)\n",
    "        else:\n",
    "            if num1 == 11 or num2 ==11 or num3 ==11:\n",
    "                print(f'blackjack({num1},{num2},{num3}) -->',somaNum-10)\n",
    "            else:\n",
    "                print(f'blackjack({num1},{num2},{num3}) --> ESTOUROU')\n",
    "    else:\n",
    "        print(\"Tem algum numero que não está entre 1 e 11!\")\n",
    "\n",
    "num1 = int(input(\"Digite o primeiro numero: \"))\n",
    "num2 = int(input(\"Digite o primeiro numero: \"))\n",
    "num3 = int(input(\"Digite o primeiro numero: \"))\n",
    "blackjack(num1,num2,num3)"
   ]
  },
  {
   "cell_type": "code",
   "execution_count": null,
   "metadata": {},
   "outputs": [],
   "source": []
  },
  {
   "cell_type": "markdown",
   "metadata": {},
   "source": [
    "6 -  Espião: Escreva uma função que receba uma lista de\n",
    "inteiros e retorne True se contém um 007 em ordem, mesmo\n",
    "que não contínuo. Exemplo:\n",
    "espiao([1,2,4,0,0,7,5]) --> True\n",
    "espiao([1,0,2,4,0,5,7]) --> True\n",
    "espiao([1,7,2,4,0,5,0]) --> False"
   ]
  },
  {
   "cell_type": "code",
   "execution_count": null,
   "metadata": {},
   "outputs": [],
   "source": [
    "def acha_espiao(lista):\n",
    "    estado = \"nada\"\n",
    "    for n in lista:\n",
    "        if n == 0 and estado == \"nada\":\n",
    "            estado = \"0\"\n",
    "        elif n == 0 and estado == \"0\":\n",
    "            estado = \"00\"\n",
    "        elif n == 7 and estado == \"00\":\n",
    "            print(\"sim, ele está aqui!\")\n",
    "            break\n",
    "    else:\n",
    "        print(\"Não tem 007!\")\n",
    "\n",
    "acha_espiao([1,7,2,4,0,5,0])\n",
    "acha_espiao([1,0,2,4,0,5,7])\n",
    "acha_espiao([1,2,4,0,0,7,5])"
   ]
  }
 ],
 "metadata": {
  "kernelspec": {
   "display_name": "Python 3",
   "language": "python",
   "name": "python3"
  },
  "language_info": {
   "codemirror_mode": {
    "name": "ipython",
    "version": 3
   },
   "file_extension": ".py",
   "mimetype": "text/x-python",
   "name": "python",
   "nbconvert_exporter": "python",
   "pygments_lexer": "ipython3",
   "version": "3.7.0"
  }
 },
 "nbformat": 4,
 "nbformat_minor": 2
}
