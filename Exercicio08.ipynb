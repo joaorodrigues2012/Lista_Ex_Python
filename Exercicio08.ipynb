{
 "cells": [
  {
   "cell_type": "markdown",
   "metadata": {},
   "source": [
    "1. Escreva uma função que calcula a soma dos n primeiros números naturais, dado que n é recebido como parâmetro. Escreva um decorator que garanta que o valor recebido é natural (maior ou igual a 1)."
   ]
  },
  {
   "cell_type": "code",
   "execution_count": 7,
   "metadata": {},
   "outputs": [
    {
     "name": "stdout",
     "output_type": "stream",
     "text": [
      "55\n",
      "Numero menor que 1\n",
      "0\n"
     ]
    }
   ],
   "source": [
    "#*************Sem usar a notação********************\n",
    "\n",
    "def valida (f):\n",
    "\tdef soma_n_primeiros(n):\n",
    "\t\tif (n>=1):\n",
    "\t\t\treturn f(n)\n",
    "\t\telse:\n",
    "\t\t\tprint(\"Numero menor que 1\")\n",
    "\t\t\treturn 0\n",
    "\treturn soma_n_primeiros\n",
    "\n",
    "\n",
    "def outra_funcao(n):\n",
    "\tsoma=0\n",
    "\tfor x in range(n+1):\n",
    "\t\tsoma = soma + x\n",
    "\treturn soma\n",
    "\n",
    "outra_funcao = valida(outra_funcao)\n",
    "\n",
    "\n",
    "print(outra_funcao(10))\n",
    "print(outra_funcao(0))"
   ]
  },
  {
   "cell_type": "code",
   "execution_count": 9,
   "metadata": {},
   "outputs": [
    {
     "name": "stdout",
     "output_type": "stream",
     "text": [
      "55\n",
      "Numero menor que 1\n",
      "0\n"
     ]
    }
   ],
   "source": [
    "#********************** Usando a notação com @ *************************\n",
    "\n",
    "\n",
    "def valida2 (f2):\n",
    "\tdef soma_n_primeiros2(n):\n",
    "\t\tif (n>=1):\n",
    "\t\t\treturn f2(n)\n",
    "\t\telse:\n",
    "\t\t\tprint(\"Numero menor que 1\")\n",
    "\t\t\treturn 0\n",
    "\treturn soma_n_primeiros2\n",
    "\n",
    "\n",
    "@valida2\n",
    "def outra_funcao2(n):\n",
    "\tsoma=0\n",
    "\tfor x in range(n+1):\n",
    "\t\tsoma = soma + x\n",
    "\treturn soma\n",
    "\n",
    "\n",
    "print(outra_funcao2(10))\n",
    "print(outra_funcao2(0))"
   ]
  },
  {
   "cell_type": "code",
   "execution_count": 11,
   "metadata": {},
   "outputs": [
    {
     "name": "stdout",
     "output_type": "stream",
     "text": [
      "55\n",
      "Numero menor que 1\n",
      "0\n"
     ]
    }
   ],
   "source": [
    "#************** decorators por meio de classes **************************\n",
    "\n",
    "class Validar:\n",
    "\tdef __init__(self,f3):\n",
    "\t\tself.f3 = f3\n",
    "\tdef __call__(self,n):\n",
    "\t\tif (n>=1):\n",
    "\t\t\treturn self.f3(n)\n",
    "\t\telse:\n",
    "\t\t\tprint(\"Numero menor que 1\")\n",
    "\t\t\treturn 0\n",
    "@Validar\n",
    "def outra_funcao2(n):\n",
    "\tsoma=0\n",
    "\tfor x in range(n+1):\n",
    "\t\tsoma = soma + x\n",
    "\treturn soma\n",
    "\n",
    "\n",
    "print(outra_funcao2(10))\n",
    "print(outra_funcao2(0))"
   ]
  },
  {
   "cell_type": "code",
   "execution_count": null,
   "metadata": {},
   "outputs": [],
   "source": []
  },
  {
   "cell_type": "code",
   "execution_count": null,
   "metadata": {},
   "outputs": [],
   "source": []
  },
  {
   "cell_type": "markdown",
   "metadata": {},
   "source": [
    "2. Escreva uma função que recebe uma lista de triplas e, para cada uma, gera uma\n",
    "equação do segundo grau considerando que os elementos da tripla são os\n",
    "coeficientes usualmente denominados a, b e c da equação. Note que a sua função\n",
    "deverá devolver uma lista de equações. A geração das equações deve ser feita por\n",
    "meio de, evidentemente, decorators."
   ]
  },
  {
   "cell_type": "code",
   "execution_count": 14,
   "metadata": {},
   "outputs": [
    {
     "name": "stdout",
     "output_type": "stream",
     "text": [
      "['1xˆ2+1x+1', '2xˆ2+2x+2', '3xˆ2+3x+3']\n",
      "['1xˆ2+1x+1', '2xˆ2+2x+2', '3xˆ2+3x+3']\n",
      "['1xˆ2+1x+1', '2xˆ2+2x+2', '3xˆ2+3x+3']\n"
     ]
    }
   ],
   "source": [
    "# ****************** Sem usar a notação***************************\n",
    "\n",
    "def recebe_f(f):\n",
    "\tequacoes = []\n",
    "\tdef decorator(lista):\n",
    "\t\tfor e in lista:\n",
    "\t\t\tequacoes.append(f(e))\n",
    "\t\treturn equacoes\n",
    "\treturn decorator\n",
    "def funcao(lista):\n",
    "\teq = str(lista) + \"xˆ2\" + \"+\" + str(lista) + \"x\" + \"+\"+ str(lista)\n",
    "\treturn eq\n",
    "funcao = recebe_f(funcao)\n",
    "print(funcao([1,2,3]))\n"
   ]
  },
  {
   "cell_type": "code",
   "execution_count": 15,
   "metadata": {},
   "outputs": [
    {
     "name": "stdout",
     "output_type": "stream",
     "text": [
      "['1xˆ2+1x+1', '2xˆ2+2x+2', '3xˆ2+3x+3']\n"
     ]
    }
   ],
   "source": [
    "#*************************Usando a notação com @************************\n",
    "\n",
    "def recebe_f2(f2):\n",
    "\tequacoes = []\n",
    "\tdef decorator2(lista):\n",
    "\t\tfor e in lista:\n",
    "\t\t\tequacoes.append(f2(e))\n",
    "\t\treturn equacoes\n",
    "\treturn decorator2\n",
    "\n",
    "@recebe_f2\n",
    "def funcao2(lista):\n",
    "\teq = str(lista) + \"xˆ2\" + \"+\" + str(lista) + \"x\" + \"+\"+ str(lista)\n",
    "\treturn eq\n",
    "print(funcao2([1,2,3]))\n"
   ]
  },
  {
   "cell_type": "code",
   "execution_count": 16,
   "metadata": {},
   "outputs": [
    {
     "name": "stdout",
     "output_type": "stream",
     "text": [
      "['1xˆ2+1x+1', '2xˆ2+2x+2', '3xˆ2+3x+3']\n"
     ]
    }
   ],
   "source": [
    "#*********************** decorators por meio de classes ****************************\n",
    "\n",
    "\n",
    "class Eq:\n",
    "\tdef __init__ (self,f3):\n",
    "\t\tself.f3 = f3\n",
    "\t\tself.equacoes =[]\n",
    "\tdef __call__(self,lista):\n",
    "\t\tfor e in lista:\n",
    "\t\t\tself.equacoes.append(self.f3(e))\n",
    "\t\treturn self.equacoes\n",
    "@Eq\n",
    "def funcao3(lista):\n",
    "\teq = str(lista) + \"xˆ2\" + \"+\" + str(lista) + \"x\" + \"+\"+ str(lista)\n",
    "\treturn eq\n",
    "\n",
    "\n",
    "print(funcao3([1,2,3]))"
   ]
  },
  {
   "cell_type": "code",
   "execution_count": null,
   "metadata": {},
   "outputs": [],
   "source": []
  },
  {
   "cell_type": "code",
   "execution_count": null,
   "metadata": {},
   "outputs": [],
   "source": []
  },
  {
   "cell_type": "markdown",
   "metadata": {},
   "source": [
    "3. Escreva uma função que exibe uma lista recebida como parâmetro. Ela deve,\n",
    "contudo, ordenar a lista antes. A ordenação deve ser feita por meio de um\n",
    "decorator.\n"
   ]
  },
  {
   "cell_type": "code",
   "execution_count": 19,
   "metadata": {},
   "outputs": [
    {
     "name": "stdout",
     "output_type": "stream",
     "text": [
      "[0, 1, 2, 3, 4, 5, 6, 7, 8, 9]\n",
      "None\n"
     ]
    }
   ],
   "source": [
    "# ****************** Sem usar a notação***************************\n",
    "\n",
    "\n",
    "def ordena(f):\n",
    "    def decorator(lista):\n",
    "        return f(sorted(lista))\n",
    "\n",
    "    return decorator\n",
    "\n",
    "\n",
    "def funcao(lista):\n",
    "    print(lista)\n",
    "\n",
    "\n",
    "funcao = ordena(funcao)\n",
    "print(funcao([9, 8, 7, 6, 5, 4, 3, 2,1,0]))\n"
   ]
  },
  {
   "cell_type": "code",
   "execution_count": 21,
   "metadata": {},
   "outputs": [
    {
     "name": "stdout",
     "output_type": "stream",
     "text": [
      "[0, 1, 2, 3, 4, 5, 6, 7, 8, 9]\n",
      "None\n"
     ]
    }
   ],
   "source": [
    "#*************************Usando a notação com @************************\n",
    "\n",
    "def ordena2(f2):\n",
    "    def decorator(lista):\n",
    "        return f2(sorted(lista))\n",
    "\n",
    "    return decorator\n",
    "\n",
    "\n",
    "@ordena2\n",
    "def funcao2(lista):\n",
    "    print(lista)\n",
    "\n",
    "\n",
    "print(funcao2([9, 8, 7, 6, 5, 4, 3, 2,1,0]))\n"
   ]
  },
  {
   "cell_type": "code",
   "execution_count": 20,
   "metadata": {},
   "outputs": [
    {
     "name": "stdout",
     "output_type": "stream",
     "text": [
      "[0, 1, 2, 3, 4, 5, 6, 7, 8, 9]\n",
      "None\n"
     ]
    }
   ],
   "source": [
    "#*********************** decorators por meio de classes ****************************\n",
    "\n",
    "\n",
    "class Ordena:\n",
    "    def __init__(self, f3):\n",
    "        self.f3 = f3\n",
    "\n",
    "    def __call__(self, lista):\n",
    "        return self.f3(sorted(lista))\n",
    "\n",
    "\n",
    "@Ordena\n",
    "def funcao3(lista):\n",
    "    print(lista)\n",
    "\n",
    "\n",
    "print(funcao3([9, 8, 7, 6, 5, 4, 3, 2,1,0]))"
   ]
  },
  {
   "cell_type": "code",
   "execution_count": null,
   "metadata": {},
   "outputs": [],
   "source": []
  },
  {
   "cell_type": "code",
   "execution_count": null,
   "metadata": {},
   "outputs": [],
   "source": []
  },
  {
   "cell_type": "markdown",
   "metadata": {},
   "source": [
    "4. Escreva uma classe para representar um café que, a princípio, tem somente preço.\n",
    "Um cafezinho custa 5 reais. Escreva classes para representar os adicionais: palitos de\n",
    "chocolate (0,50 cents), espuma de leite (0,20 cents), caramelo (0,10 cents) e canela\n",
    "(0,30 cents). Crie um objeto café e, a seguir, faça um menuzinho em que o usuário\n",
    "pode ficar indefinidamente escolhendo adicionais: 1 para chocolate, 2 para espuma\n",
    "de leite, 3 para caramelo e 4 para canela. A cada adicional escolhido, decore o objeto\n",
    "café. No final, mostre o preço total."
   ]
  },
  {
   "cell_type": "code",
   "execution_count": 29,
   "metadata": {},
   "outputs": [
    {
     "name": "stdout",
     "output_type": "stream",
     "text": [
      "Menu: \n",
      " 1-Para Palitos de chocolate \n",
      " 2-Para espuma de leite \n",
      " 3-Para caramelo \n",
      " 4-Para Canela \n",
      " 0-Sair \n",
      "1\n",
      "chocolate\n",
      "Digite: \n",
      " 1-Para chocolate \n",
      " 2-Para espuma de leite \n",
      " 3-Para caramelo \n",
      " 4-Para Canela \n",
      " 0-Sair \n",
      "0\n",
      "5.5\n"
     ]
    }
   ],
   "source": [
    "# ****************** Sem usar a notação***************************\n",
    "def chocolate(f):\n",
    "    def decorador():\n",
    "        return  0.5 + f()\n",
    "    return decorador\n",
    "\n",
    "def espumaLeite(f):\n",
    "    def decorador():\n",
    "        return  0.2 + f()\n",
    "    return decorador\n",
    "\n",
    "\n",
    "\n",
    "def caramelo(f):\n",
    "    def decorador():\n",
    "        return  0.3 + f()\n",
    "    return decorador\n",
    "\n",
    "def caramelo(f):\n",
    "    def decorador():\n",
    "        return  0.3 + f()\n",
    "    return decorador\n",
    "\n",
    "def canela(f):\n",
    "    def decorador():\n",
    "        return  0.1 + f()\n",
    "    return decorador\n",
    "\n",
    "def cafe ():\n",
    "    return 5\n",
    "\n",
    "\n",
    "\n",
    "entrada = int(input(\"Menu: \\n 1-Para Palitos de chocolate \\n 2-Para espuma de leite \\n 3-Para caramelo \\n 4-Para Canela \\n 0-Sair \\n\"))\n",
    "while (entrada != 0):\n",
    "    if (entrada ==1):\n",
    "        print(\"chocolate\")\n",
    "        cafe= chocolate(cafe)\n",
    "    if(entrada == 2):\n",
    "        print(\"espuma de leite\")\n",
    "        cafe = espumaLeite(cafe)\n",
    "        print(cafe())\n",
    "    if(entrada == 3):\n",
    "        print(\"Caramelo\")\n",
    "        cafe = espumaLeite(cafe)\n",
    "    if (entrada ==4):\n",
    "        print(\"Canela\")\n",
    "        cafe = espumaLeite(cafe)\n",
    "    entrada = int(input(\"Digite: \\n 1-Para chocolate \\n 2-Para espuma de leite \\n 3-Para caramelo \\n 4-Para Canela \\n 0-Sair \\n\"))\n",
    "print(cafe())"
   ]
  },
  {
   "cell_type": "code",
   "execution_count": 35,
   "metadata": {},
   "outputs": [
    {
     "name": "stdout",
     "output_type": "stream",
     "text": [
      "Menu: \n",
      " 1-Para Palitos de chocolate \n",
      " 2-Para espuma de leite \n",
      " 3-Para caramelo \n",
      " 4-Para Canela \n",
      " 0-Sair \n",
      "1\n",
      "chocolate\n",
      "Digite: \n",
      " 1-Para chocolate \n",
      " 2-Para espuma de leite \n",
      " 3-Para caramelo \n",
      " 4-Para Canela \n",
      " 0-Sair \n",
      "1\n",
      "chocolate\n",
      "Digite: \n",
      " 1-Para chocolate \n",
      " 2-Para espuma de leite \n",
      " 3-Para caramelo \n",
      " 4-Para Canela \n",
      " 0-Sair \n",
      "0\n",
      "5.5\n"
     ]
    }
   ],
   "source": [
    "#********************** Usando a notação com @ *************************\n",
    "\n",
    "def chocolate(f):\n",
    "    def decorador():\n",
    "        return 0.5 + f()\n",
    "\n",
    "    return decorador\n",
    "\n",
    "\n",
    "def espumaLeite(f):\n",
    "    def decorador():\n",
    "        return 0.2 + f()\n",
    "\n",
    "    return decorador\n",
    "\n",
    "\n",
    "def caramelo(f):\n",
    "    def decorador():\n",
    "        return 0.3 + f()\n",
    "\n",
    "    return decorador\n",
    "\n",
    "\n",
    "def canela(f):\n",
    "    def decorador():\n",
    "        return 0.1 + f()\n",
    "\n",
    "    return decorador\n",
    "\n",
    "\n",
    "entrada = int(input(\n",
    "    \"Menu: \\n 1-Para Palitos de chocolate \\n 2-Para espuma de leite \\n 3-Para caramelo \\n 4-Para Canela \\n 0-Sair \\n\"))\n",
    "while (entrada != 0):\n",
    "    if (entrada == 1):\n",
    "        print(\"chocolate\")\n",
    "\n",
    "\n",
    "        @chocolate\n",
    "        def cafe():\n",
    "            return 5\n",
    "\n",
    "    if (entrada == 2):\n",
    "        print(\"espuma de leite\")\n",
    "\n",
    "\n",
    "        @espumaLeite\n",
    "        def cafe():\n",
    "            return 5\n",
    "    if (entrada == 3):\n",
    "        print(\"Caramelo\")\n",
    "\n",
    "\n",
    "        @caramelo\n",
    "        def cafe():\n",
    "            return 5\n",
    "    if (entrada == 4):\n",
    "        print(\"Canela\")\n",
    "\n",
    "\n",
    "        @canela\n",
    "        def cafe():\n",
    "            return 5\n",
    "    entrada = int(\n",
    "        input(\"Digite: \\n 1-Para chocolate \\n 2-Para espuma de leite \\n 3-Para caramelo \\n 4-Para Canela \\n 0-Sair \\n\"))\n",
    "print(cafe())"
   ]
  },
  {
   "cell_type": "code",
   "execution_count": 33,
   "metadata": {},
   "outputs": [
    {
     "name": "stdout",
     "output_type": "stream",
     "text": [
      "Menu: \n",
      " 1-Para Palitos de chocolate \n",
      " 2-Para espuma de leite \n",
      " 3-Para caramelo \n",
      " 4-Para Canela \n",
      " 0-Sair \n",
      "2\n",
      "espuma de leite\n",
      "Digite: \n",
      " 1-Para chocolate \n",
      " 2-Para espuma de leite \n",
      " 3-Para caramelo \n",
      " 4-Para Canela \n",
      " 0-Sair \n",
      "0\n",
      "5.2\n"
     ]
    }
   ],
   "source": [
    "#************** decorators por meio de classes **************************\n",
    "class Cafe:\n",
    "    def __init__(self,preco=5):\n",
    "        self.preco = preco\n",
    "\n",
    "    def __call__(self,adicional):\n",
    "        self.preco = self.preco + adicional.preco\n",
    "        return self.preco\n",
    "\n",
    "class Chocolates:\n",
    "    def __init__ (self,chocolate):\n",
    "        self.preco = chocolate\n",
    "class EspumaLeite:\n",
    "    def __init__ (self,leite):\n",
    "        self.preco = leite\n",
    "class Caramelo:\n",
    "    def __init__ (self,caramelo):\n",
    "        self.preco = caramelo\n",
    "class Canela:\n",
    "    def __init__ (self,canela):\n",
    "        self.preco=canela\n",
    "\n",
    "cafe = Cafe()\n",
    "entrada = int(input(\"Menu: \\n 1-Para Palitos de chocolate \\n 2-Para espuma de leite \\n 3-Para caramelo \\n 4-Para Canela \\n 0-Sair \\n\"))\n",
    "\n",
    "while (entrada != 0):\n",
    "    if (entrada ==1):\n",
    "        print(\"chocolate\")\n",
    "        cafe(Chocolates(.50))\n",
    "    if(entrada == 2):\n",
    "        print(\"espuma de leite\")\n",
    "        cafe(EspumaLeite(.20))\n",
    "    if(entrada == 3):\n",
    "        print(\"Caramelo\")\n",
    "        cafe(Caramelo(0.10))\n",
    "    if (entrada ==4):\n",
    "        print(\"Canela\")\n",
    "        cafe(Canela(0.30))\n",
    "    entrada = int(input(\"Digite: \\n 1-Para chocolate \\n 2-Para espuma de leite \\n 3-Para caramelo \\n 4-Para Canela \\n 0-Sair \\n\"))\n",
    "print(cafe.preco)"
   ]
  }
 ],
 "metadata": {
  "kernelspec": {
   "display_name": "Python 3",
   "language": "python",
   "name": "python3"
  },
  "language_info": {
   "codemirror_mode": {
    "name": "ipython",
    "version": 3
   },
   "file_extension": ".py",
   "mimetype": "text/x-python",
   "name": "python",
   "nbconvert_exporter": "python",
   "pygments_lexer": "ipython3",
   "version": "3.7.1"
  }
 },
 "nbformat": 4,
 "nbformat_minor": 2
}
