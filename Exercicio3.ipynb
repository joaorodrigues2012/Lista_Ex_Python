{
 "cells": [
  {
   "cell_type": "markdown",
   "metadata": {},
   "source": [
    "1 - Faça um Programa que peça dois números e imprima o maior deles."
   ]
  },
  {
   "cell_type": "code",
   "execution_count": null,
   "metadata": {},
   "outputs": [],
   "source": [
    "num1 = input(\"Digite o primeiro numero: \")\n",
    "num2 = input(\"Digite o seguundo numero: \")\n",
    "print (\"O maior é :\"+num1 if num1>num2 else \"O maior é: \"+num2)"
   ]
  },
  {
   "cell_type": "code",
   "execution_count": null,
   "metadata": {},
   "outputs": [],
   "source": []
  },
  {
   "cell_type": "markdown",
   "metadata": {},
   "source": [
    "2 - Faça um Programa que verifique se uma letra digitada é vogal ou consoante"
   ]
  },
  {
   "cell_type": "code",
   "execution_count": null,
   "metadata": {},
   "outputs": [],
   "source": [
    "vogais = [\"A\",\"E\",\"I\",\"O\",\"U\"]\n",
    "letra = input(\"Digite uma letra: \")\n",
    "letra = letra.upper()\n",
    "if(letra in vogais):\n",
    "    print(\"É vogal!\")\n",
    "else:\n",
    "    print(\"É consoante!\")"
   ]
  },
  {
   "cell_type": "code",
   "execution_count": null,
   "metadata": {},
   "outputs": [],
   "source": []
  },
  {
   "cell_type": "markdown",
   "metadata": {},
   "source": [
    "3 - Faça um programa para a leitura de duas notas parciais de um aluno. O programa\n",
    "deve calcular a média alcançada por aluno e apresentar:\n",
    "- A mensagem \"Aprovado\", se a média alcançada for maior ou igual a sete;\n",
    "- A mensagem \"Reprovado\", se a média for menor do que sete;\n",
    "- A mensagem \"Aprovado com Distinção\", se a média for igual a dez."
   ]
  },
  {
   "cell_type": "code",
   "execution_count": null,
   "metadata": {},
   "outputs": [],
   "source": [
    "nota1 = float(input(\"Digite a primeira nota: \"))\n",
    "nota2 = float(input(\"Digite a segunda nota: \"))\n",
    "media = ((nota1+nota2)/2)\n",
    "if media == 10:\n",
    "    print(\"O aluno foi aprovado com distinção tirando \",media)\n",
    "elif (media < 7):\n",
    "    print(\"O aluno foi reprovado com \",media)\n",
    "else:\n",
    "    print(\"O aluno foi aprovado com \",media)"
   ]
  },
  {
   "cell_type": "code",
   "execution_count": null,
   "metadata": {},
   "outputs": [],
   "source": []
  },
  {
   "cell_type": "markdown",
   "metadata": {},
   "source": [
    "4 - Faça um Programa que leia três números e mostre-os em ordem decrescente."
   ]
  },
  {
   "cell_type": "code",
   "execution_count": null,
   "metadata": {},
   "outputs": [],
   "source": [
    "numeros = []\n",
    "num1 = float(input(\"Digite o primeiro numero: \"))\n",
    "num2 = float(input(\"Digite o sengundo numero: \"))\n",
    "num3 = float(input(\"Digite o terceiro numero: \"))\n",
    "numeros.append(num1)\n",
    "numeros.append(num2)\n",
    "numeros.append(num3)\n",
    "numeros.reverse()\n",
    "numeros"
   ]
  },
  {
   "cell_type": "code",
   "execution_count": null,
   "metadata": {},
   "outputs": [],
   "source": []
  },
  {
   "cell_type": "markdown",
   "metadata": {},
   "source": [
    "5 - As Organizações Tabajara resolveram dar um aumento de salário aos seus\n",
    "colaboradores e lhe contrataram para desenvolver o programa que calculará os\n",
    "reajustes.\n",
    "Faça um programa que recebe o salário de um colaborador e o reajuste segundo o\n",
    "seguinte critério, baseado no salário atual:\n",
    "- salários até R$ 280,00 (incluindo) : aumento de 20%\n",
    "- salários entre R$ 280,00 e R$ 700,00 : aumento de 15%\n",
    "- salários entre R$ 700,00 e R$ 1500,00 : aumento de 10%\n",
    "- salários de R$ 1500,00 em diante : aumento de 5% Após o aumento ser realizado,\n",
    "informe na tela:\n",
    "- o salário antes do reajuste;\n",
    "- o percentual de aumento aplicado;\n",
    "- o valor do aumento;\n",
    "- o novo salário, após o aumento"
   ]
  },
  {
   "cell_type": "code",
   "execution_count": null,
   "metadata": {},
   "outputs": [],
   "source": [
    "salario = float(input(\"Digite seu salario: \"))\n",
    "salarioAnt = salario\n",
    "Vaumento = 0\n",
    "if salario < 280:\n",
    "    Vaumento =  (salario*20)/100\n",
    "    salario += Vaumento\n",
    "    percentual = \"20%\"\n",
    "elif salario >= 280 and salario < 700:\n",
    "    Vaumento = (salario*15)/100\n",
    "    salario += Vaumento\n",
    "    percentual = \"15%\"\n",
    "elif salario >= 700 and salario < 1500:\n",
    "    Vaumento = (salario*10)/100\n",
    "    salario += Vaumento\n",
    "    percentual = \"10%\"\n",
    "else:\n",
    "    Vaumento = salario*5/100\n",
    "    salario += Vaumento\n",
    "    percentual = \"05%\"\n",
    "    \n",
    "print(\"O salario antigo é R$\",salarioAnt)\n",
    "print(\"O percentual de aumento aplicado foi de\",percentual)\n",
    "print(\"O valor do aumento foi de \",Vaumento)\n",
    "print(\"O novo salario é R$\", salario)"
   ]
  },
  {
   "cell_type": "code",
   "execution_count": null,
   "metadata": {},
   "outputs": [],
   "source": []
  },
  {
   "cell_type": "markdown",
   "metadata": {},
   "source": [
    "6 - Faça um Programa que leia um número e exiba o dia correspondente da semana.\n",
    "(1-Domingo, 2- Segunda, etc.), se digitar outro valor deve aparecer valor inválido."
   ]
  },
  {
   "cell_type": "code",
   "execution_count": null,
   "metadata": {},
   "outputs": [],
   "source": [
    "semana = {1:'domingo',2:'segunda',3:'terça',4:'quarta',5:'quinta',6:'sexta',7:'sabado'}\n",
    "numDia = int(input(\"Digite o dia da semana: \"))\n",
    "if numDia in semana:\n",
    "    print(\"Dia da semana\", semana[numDia])\n",
    "else: \n",
    "    print(\"Dia invalido!\")"
   ]
  },
  {
   "cell_type": "code",
   "execution_count": null,
   "metadata": {},
   "outputs": [],
   "source": []
  },
  {
   "cell_type": "markdown",
   "metadata": {},
   "source": [
    "7 - Faça um programa que lê as duas notas parciais obtidas por um aluno numa\n",
    "disciplina ao longo de um semestre, e calcule a sua média. A atribuição de conceitos\n",
    "obedece à tabela abaixo:\n",
    " Média de Aproveitamento Conceito\n",
    " Entre 9.0 e 10.0 A\n",
    " Entre 7.5 e 9.0 B\n",
    " Entre 6.0 e 7.5 C\n",
    " Entre 4.0 e 6.0 D\n",
    " Entre 4.0 e zero E\n",
    "O algoritmo deve mostrar na tela as notas, a média, o conceito correspondente e a\n",
    "mensagem “APROVADO” se o conceito for A, B ou C ou “REPROVADO” se o conceito\n",
    "for D ou E."
   ]
  },
  {
   "cell_type": "code",
   "execution_count": null,
   "metadata": {},
   "outputs": [],
   "source": [
    "nota1 = float(input(\"Digite a primeira nota: \"))\n",
    "nota2 = float(input(\"Digite a segunda nota: \"))\n",
    "media = (nota1+nota2)/2\n",
    "conceito =0\n",
    "if media > 9:\n",
    "    conceito = \"A\"\n",
    "elif media > 7.5 and media <= 9:\n",
    "    conceito = \"B\"\n",
    "elif media > 6 and media <= 7.5:\n",
    "    conceito = \"C\"\n",
    "elif media > 4 and media <= 6:\n",
    "    conceito = \"D\"\n",
    "else:\n",
    "    conceito = \"E\"\n",
    "\n",
    "if conceito == \"A\" or conceito == \"B\" or conceito == \"C\":\n",
    "    mensagem = \"Aprovado!\"\n",
    "else:\n",
    "    mensagem = \"Reprovado!\"\n",
    "\n",
    "print(\"A primeira nota foi:\",nota1)\n",
    "print(\"A segunda nota foi:\",nota2)\n",
    "print(\"A media foi:\",media)\n",
    "print(\"O conceito foi:\",conceito)\n",
    "print(\"O aluno foi\",mensagem)"
   ]
  },
  {
   "cell_type": "code",
   "execution_count": null,
   "metadata": {},
   "outputs": [],
   "source": []
  },
  {
   "cell_type": "markdown",
   "metadata": {},
   "source": [
    "8 -  Faça um Programa que peça os 3 lados de um triângulo. O programa deverá\n",
    "informar se os valores podem ser um triângulo. Indique, caso os lados formem um\n",
    "triângulo, se o mesmo é: equilátero, isósceles ou escaleno.\n",
    "Dicas:\n",
    "- Três lados formam um triângulo quando a soma de quaisquer dois lados for maior\n",
    "que o terceiro;\n",
    "- Triângulo Equilátero: três lados iguais;\n",
    "- Triângulo Isósceles: quaisquer dois lados iguais;\n",
    "- Triângulo Escaleno: três lados diferentes;\n"
   ]
  },
  {
   "cell_type": "code",
   "execution_count": null,
   "metadata": {},
   "outputs": [],
   "source": [
    "l1 = float(input('Insira o primeiro lado: '))\n",
    "l2 = float(input('Insira o segundo lado: '))\n",
    "l3 = float(input('Insira o terceiro lado: '))\n",
    "\n",
    "if l1 < l2 + l3 and l2 < l1 + l3 and l3 < l1 + l2:\n",
    "    print('Os valores formam um triângulo:')\n",
    "    if l1 == l2 == l3:\n",
    "        print('equilátero!')\n",
    "    elif l1 == l2 or l1 == l3 or l2 == l3:\n",
    "        print('isósceles!')\n",
    "    else:\n",
    "        print('escaleno!')\n",
    "else:\n",
    "    print('Os valores não formam um triângulo.')"
   ]
  },
  {
   "cell_type": "code",
   "execution_count": null,
   "metadata": {},
   "outputs": [],
   "source": []
  },
  {
   "cell_type": "markdown",
   "metadata": {},
   "source": [
    "9 -  Faça um programa que calcule as raízes de uma equação do segundo grau, na\n",
    "forma ax2 + bx + c. O programa deverá pedir os valores de a, b e c e fazer as\n",
    "consistências, informando ao usuário nas seguintes situações:\n",
    "- Se o usuário informar o valor de A igual a zero, a equação não é do segundo grau e\n",
    "o programa não deve fazer pedir os demais valores, sendo encerrado;\n",
    "- Se o delta calculado for negativo, a equação não possui raizes reais. Informe ao\n",
    "usuário e encerre o programa;\n",
    "- Se o delta calculado for igual a zero a equação possui apenas uma raiz real;\n",
    "informe-a ao usuário;\n",
    "- Se o delta for positivo, a equação possui duas raiz reais; informe-as ao usuário;"
   ]
  },
  {
   "cell_type": "code",
   "execution_count": null,
   "metadata": {},
   "outputs": [],
   "source": [
    "import math\n",
    "\n",
    "valorA = float(input(\"Digite o valor de A: \"))\n",
    "if valorA == 0:\n",
    "    print(\"O valor inserido não forma uma equação de segundo grau!\")\n",
    "else:\n",
    "    valorB = float(input('Insira o valor de B: '))\n",
    "    valorC = float(input('Insira o valor de C: '))\n",
    "    delta = valorB**2 - 4*valorA*valorC\n",
    "    if delta < 0:\n",
    "        print(\"A equação não possui raizes reais, programa encerrado\")\n",
    "    elif delta == 0:\n",
    "        x = -valorB / (2*valorA)\n",
    "        print(\"A equação possui apenas uma raiz real:\", x)\n",
    "    else:\n",
    "        x1 = (-valorB + math.sqrt(delta)) / (2*valorA)\n",
    "        x2 = (-valorB - math.sqrt(delta)) / (2*valorA)\n",
    "        print(f\"A equação possui duas raiz reais: {x1} e {x2}\")"
   ]
  },
  {
   "cell_type": "code",
   "execution_count": null,
   "metadata": {},
   "outputs": [],
   "source": []
  },
  {
   "cell_type": "markdown",
   "metadata": {},
   "source": [
    "10 -  Faça um Programa para um caixa eletrônico. O programa deverá perguntar ao\n",
    "usuário a valor do saque e depois informar quantas notas de cada valor serão\n",
    "fornecidas. As notas disponíveis serão as de 1, 5, 10, 50 e 100 reais. O valor mínimo é\n",
    "de 10 reais e o máximo de 600 reais. O programa não deve se preocupar com a\n",
    "quantidade de notas existentes na máquina.\n",
    "- Exemplo 1: Para sacar a quantia de 256 reais, o programa fornece duas notas de\n",
    "100, uma nota de 50, uma nota de 5 e uma nota de 1;\n",
    "- Exemplo 2: Para sacar a quantia de 399 reais, o programa fornece três notas de\n",
    "100, uma nota de 50, quatro notas de 10, uma nota de 5 e quatro notas de 1.\n"
   ]
  },
  {
   "cell_type": "code",
   "execution_count": null,
   "metadata": {},
   "outputs": [],
   "source": [
    "saque = int(input(\"Informe o valor a ser sacado: \"))\n",
    "if saque >= 10 and saque <= 600:\n",
    "    nota100 = saque // 100\n",
    "    resto = saque % 100\n",
    "    print(f'{nota100} notas de 100 reais;')\n",
    "    nota50 = resto // 50\n",
    "    resto = resto % 50\n",
    "    print(f'{nota50} notas de 50 reais;')\n",
    "    nota10 = resto // 10\n",
    "    resto = resto % 10\n",
    "    print(f'{nota10} notas de 10 reais;')\n",
    "    nota5 = resto // 5\n",
    "    resto = resto % 5\n",
    "    print(f'{nota5} notas de 5 reais;')\n",
    "    print(f'{resto} notas de 1 real.')\n",
    "else:\n",
    "    print(\"Valor não permitido.\")"
   ]
  },
  {
   "cell_type": "code",
   "execution_count": null,
   "metadata": {},
   "outputs": [],
   "source": []
  },
  {
   "cell_type": "markdown",
   "metadata": {},
   "source": [
    "11 -  Faça um programa que faça 5 perguntas para uma pessoa sobre um crime. As\n",
    "perguntas são:\n",
    "\"Telefonou para a vítima?\"\n",
    "\"Esteve no local do crime?\"\n",
    "\"Mora perto da vítima?\"\n",
    "\"Devia para a vítima?\"\n",
    "\"Já trabalhou com a vítima?\"\n",
    "O programa deve no final emitir uma classificação sobre a participação da pessoa no\n",
    "crime. Se a pessoa responder positivamente a 2 questões ela deve ser classificada\n",
    "como \"Suspeita\", entre 3 e 4 como \"Cúmplice\" e 5 como \"Assassino\". Caso contrário,\n",
    "ele será classificado como \"Inocente\".\n"
   ]
  },
  {
   "cell_type": "code",
   "execution_count": null,
   "metadata": {},
   "outputs": [],
   "source": [
    "perguntas = []\n",
    "perg1 = input(\"Telefonou para a vítima? (s/n)\")\n",
    "perg2 = input(\"Esteve no local do crime? (s/n)\")\n",
    "perg3 = input(\"Mora perto da vítima? (s/n)\")\n",
    "perg4 = input(\"Devia para a vítima? (s/n)\")\n",
    "perg5 = input(\"Já trabalhou com a vítima? (s/n)\")\n",
    "perguntas.append(perg1)\n",
    "perguntas.append(perg2)\n",
    "perguntas.append(perg3)\n",
    "perguntas.append(perg4)\n",
    "perguntas.append(perg5)\n",
    "contSim = perguntas.count(\"s\")\n",
    "\n",
    "if contSim == 2:\n",
    "    print(\"Suspeito(a)\")\n",
    "elif contSim == 3 or contSim == 4:\n",
    "    print(\"Cúmplice\")\n",
    "elif contSim == 5:\n",
    "    print(\"Assassino\")\n",
    "else:\n",
    "    print(\"Inocente\")"
   ]
  },
  {
   "cell_type": "code",
   "execution_count": null,
   "metadata": {},
   "outputs": [],
   "source": []
  },
  {
   "cell_type": "markdown",
   "metadata": {},
   "source": [
    "12 -  Uma fruteira está vendendo frutas com a seguinte tabela de preços:\n",
    " Até 5 Kg Acima de 5 Kg\n",
    "Morango R$ 2,50 por Kg R$ 2,20 por Kg\n",
    "Maçã R$ 1,80 por Kg R$ 1,50 por Kg\n",
    "Se o cliente comprar mais de 8 Kg em frutas ou o valor total da compra ultrapassar\n",
    "R$ 25,00, receberá ainda um desconto de 10% sobre este total. Escreva um\n",
    "algoritmo para ler a quantidade (em Kg) de morangos e a quantidade (em Kg) de\n",
    "maças adquiridas e escreva o valor a ser pago pelo cliente."
   ]
  },
  {
   "cell_type": "code",
   "execution_count": 1,
   "metadata": {},
   "outputs": [
    {
     "name": "stdout",
     "output_type": "stream",
     "text": [
      "Insira a quantidade em kg de morangos: 10\n",
      "Insira a quantidade em kg de maçãs: 10\n",
      "Valor a ser pago:  33.3\n"
     ]
    }
   ],
   "source": [
    "preco = 0\n",
    "kgMorg = float(input(\"Insira a quantidade em kg de morangos: \"))\n",
    "kgMaca = float(input(\"Insira a quantidade em kg de maçãs: \"))\n",
    "\n",
    "if kgMorg < 5:\n",
    "    preco += kgMorg * 2.50\n",
    "else:\n",
    "    preco += kgMorg * 2.20\n",
    "    \n",
    "if kgMaca < 5:\n",
    "    preco += kgMaca * 1.80\n",
    "else:\n",
    "    preco += kgMaca * 1.50\n",
    "    \n",
    "if preco > 25.00 or kgMorg+kgMaca > 8:\n",
    "    preco -= (preco*10)/100 \n",
    "\n",
    "print('Valor a ser pago: ', preco)"
   ]
  },
  {
   "cell_type": "code",
   "execution_count": null,
   "metadata": {},
   "outputs": [],
   "source": []
  },
  {
   "cell_type": "markdown",
   "metadata": {},
   "source": [
    "13 - Faça um programa que peça uma nota, entre zero e dez. Mostre uma mensagem\n",
    "caso o valor seja inválido e continue pedindo até que o usuário informe um valor\n",
    "válido."
   ]
  },
  {
   "cell_type": "code",
   "execution_count": null,
   "metadata": {},
   "outputs": [],
   "source": [
    "nota = int(input(\"Digite o valor da nota: (0 ao 10) \"))\n",
    "while(nota <= 0 or nota >= 10):\n",
    "    print(\"Valor invalido!\")\n",
    "    nota = int(input(\"Digite o valor da nota: (0 ao 10) \"))\n",
    "else:\n",
    "    print(\"Valor valido, sessão encerrada!\")"
   ]
  },
  {
   "cell_type": "code",
   "execution_count": null,
   "metadata": {},
   "outputs": [],
   "source": []
  },
  {
   "cell_type": "markdown",
   "metadata": {},
   "source": [
    "14 - Faça um programa que leia e valide as seguintes informações:\n",
    "Nome: maior que 3 caracteres;\n",
    "Idade: entre 0 e 150;\n",
    "Salário: maior que zero;\n",
    "Sexo: 'f' ou 'm';\n",
    "Estado Civil: 's', 'c', 'v', 'd';"
   ]
  },
  {
   "cell_type": "code",
   "execution_count": 2,
   "metadata": {},
   "outputs": [
    {
     "name": "stdout",
     "output_type": "stream",
     "text": [
      "Insira o nome (maior que três caracteres): victor\n",
      "Insira a idade (0 - 150): 20\n",
      "Insira o salário (maior que zero): 100\n",
      "Insira o sexo (f/m): m\n",
      "Insira o estado civil (s/c/v/d): s\n"
     ]
    }
   ],
   "source": [
    "nome = input(\"Insira o nome (maior que três caracteres): \")\n",
    "while len(nome) <= 3:\n",
    "    nome = input(\"Insira o nome (maior que três caracteres): \")\n",
    "    \n",
    "idade = int(input(\"Insira a idade (0 - 150): \"))\n",
    "while idade < 0 or idade > 150:\n",
    "    idade = int(input(\"Insira a idade (0 - 150): \"))\n",
    "    \n",
    "salario = int(input(\"Insira o salário (maior que zero): \"))\n",
    "while salario <= 0:\n",
    "    salario = int(input(\"Insira o salário (maior que zero): \"))\n",
    "    \n",
    "sexo = input(\"Insira o sexo (f/m): \")\n",
    "while not (sexo in ['f', 'm']):\n",
    "    sexo = input(\"Insira o sexo (f/m): \")\n",
    "    \n",
    "estadocivil = input(\"Insira o estado civil (s/c/v/d): \")\n",
    "while not (estadocivil in ['s', 'c', 'v', 'd']):\n",
    "    estadocivil = input(\"Insira o estado civil (s/c/v/d): \")"
   ]
  },
  {
   "cell_type": "code",
   "execution_count": null,
   "metadata": {},
   "outputs": [],
   "source": []
  },
  {
   "cell_type": "markdown",
   "metadata": {},
   "source": [
    "15 -  Faça um programa que leia 5 números e informe o maior número."
   ]
  },
  {
   "cell_type": "code",
   "execution_count": 6,
   "metadata": {},
   "outputs": [
    {
     "name": "stdout",
     "output_type": "stream",
     "text": [
      "Digite 1 numero: 7.5\n",
      "Digite 2 numero: 7\n",
      "Digite 3 numero: 8\n",
      "Digite 4 numero: 5\n",
      "Digite 5 numero: 10.8\n",
      "O maior numero é 10.8\n"
     ]
    }
   ],
   "source": [
    "numeros = []\n",
    "for num in range(1,6):\n",
    "    numeros.append(float(input(f'Digite {num} numero: ')))\n",
    "print(\"O maior numero é\",max(numeros))"
   ]
  },
  {
   "cell_type": "code",
   "execution_count": null,
   "metadata": {},
   "outputs": [],
   "source": []
  },
  {
   "cell_type": "markdown",
   "metadata": {},
   "source": [
    "16 - Faça um programa que leia 5 números e informe a soma e a média dos números."
   ]
  },
  {
   "cell_type": "code",
   "execution_count": 8,
   "metadata": {},
   "outputs": [
    {
     "name": "stdout",
     "output_type": "stream",
     "text": [
      "Digite 1 numero: 5\n",
      "Digite 2 numero: 5\n",
      "Digite 3 numero: 5\n",
      "Digite 4 numero: 5\n",
      "Digite 5 numero: 5\n",
      "A soma dos numeros é 25.0\n",
      "A media dos numeros é 5.0\n"
     ]
    }
   ],
   "source": [
    "numeros = []\n",
    "for num in range(1,6):\n",
    "    numeros.append(float(input(f'Digite {num} numero: ')))\n",
    "soma = sum(numeros)\n",
    "media = soma/len(numeros)\n",
    "print(\"A soma dos numeros é\",soma)\n",
    "print(\"A media dos numeros é\",media)"
   ]
  },
  {
   "cell_type": "code",
   "execution_count": null,
   "metadata": {},
   "outputs": [],
   "source": []
  },
  {
   "cell_type": "markdown",
   "metadata": {},
   "source": [
    "17 - Faça um programa que imprima na tela apenas os números ímpares entre 1 e 50."
   ]
  },
  {
   "cell_type": "code",
   "execution_count": 16,
   "metadata": {},
   "outputs": [
    {
     "name": "stdout",
     "output_type": "stream",
     "text": [
      "1\n",
      "3\n",
      "5\n",
      "7\n",
      "9\n",
      "11\n",
      "13\n",
      "15\n",
      "17\n",
      "19\n",
      "21\n",
      "23\n",
      "25\n",
      "27\n",
      "29\n",
      "31\n",
      "33\n",
      "35\n",
      "37\n",
      "39\n",
      "41\n",
      "43\n",
      "45\n",
      "47\n",
      "49\n"
     ]
    }
   ],
   "source": [
    "for num in range(0,51):\n",
    "    if(num%2 == 1):\n",
    "        print(num)"
   ]
  },
  {
   "cell_type": "code",
   "execution_count": null,
   "metadata": {},
   "outputs": [],
   "source": []
  },
  {
   "cell_type": "markdown",
   "metadata": {},
   "source": [
    "18 - Desenvolva um gerador de tabuada, capaz de gerar a tabuada de qualquer\n",
    "número inteiro entre 1 a 10. O usuário deve informar de qual numero ele deseja ver\n",
    "a tabuada. A saída deve ser conforme o exemplo abaixo:\n",
    "Tabuada de 5:\n",
    "5 X 1 = 5\n",
    "5 X 2 = 10\n",
    "...\n",
    "5 X 10 = 50"
   ]
  },
  {
   "cell_type": "code",
   "execution_count": 17,
   "metadata": {},
   "outputs": [
    {
     "name": "stdout",
     "output_type": "stream",
     "text": [
      "Insira o número da tabuada: 5\n",
      "5 X 1 = 5\n",
      "5 X 2 = 10\n",
      "5 X 3 = 15\n",
      "5 X 4 = 20\n",
      "5 X 5 = 25\n",
      "5 X 6 = 30\n",
      "5 X 7 = 35\n",
      "5 X 8 = 40\n",
      "5 X 9 = 45\n",
      "5 X 10 = 50\n"
     ]
    }
   ],
   "source": [
    "tabuada = int(input(\"Insira o número da tabuada: \"))\n",
    "for mult in range(1, 11):\n",
    "    resp = mult*tabuada\n",
    "    print(f\"{tabuada} X {mult} = {resp}\")"
   ]
  },
  {
   "cell_type": "code",
   "execution_count": null,
   "metadata": {},
   "outputs": [],
   "source": []
  },
  {
   "cell_type": "markdown",
   "metadata": {},
   "source": [
    "19 - A série de Fibonacci é formada pela seqüência 1,1,2,3,5,8,13,21,34,55,... Faça um\n",
    "programa capaz de gerar a série até o n−ésimo termo."
   ]
  },
  {
   "cell_type": "code",
   "execution_count": 21,
   "metadata": {},
   "outputs": [
    {
     "name": "stdout",
     "output_type": "stream",
     "text": [
      "Até qual termo? 10\n",
      "0\n",
      "1\n",
      "1\n",
      "2\n",
      "3\n",
      "5\n",
      "8\n",
      "13\n",
      "21\n",
      "34\n"
     ]
    }
   ],
   "source": [
    "a = 0\n",
    "b = 1\n",
    "nesimo = int(input(\"Até qual termo? \"))\n",
    "for i in range(nesimo):\n",
    "    print(a)\n",
    "    aux = b\n",
    "    b = a + b\n",
    "    a = aux"
   ]
  },
  {
   "cell_type": "code",
   "execution_count": null,
   "metadata": {},
   "outputs": [],
   "source": []
  },
  {
   "cell_type": "markdown",
   "metadata": {},
   "source": [
    "20 - Faça um programa que calcule o fatorial de um número inteiro fornecido pelo\n",
    "usuário. Ex.: 5!=5.4.3.2.1=120"
   ]
  },
  {
   "cell_type": "code",
   "execution_count": 31,
   "metadata": {},
   "outputs": [
    {
     "name": "stdout",
     "output_type": "stream",
     "text": [
      "Fatorial de: 5\n",
      "5!=4x\n",
      "5!=3x\n",
      "5!=2x\n",
      "5!=1x\n",
      "120\n"
     ]
    }
   ],
   "source": [
    "fatorial = int(input(\"Fatorial de: \"))\n",
    "num = fatorial\n",
    "for i in range(1, fatorial):\n",
    "    fatorial = fatorial * i\n",
    "    print(f'{num}!={num-i}x')\n",
    "print(fatorial)"
   ]
  },
  {
   "cell_type": "code",
   "execution_count": null,
   "metadata": {},
   "outputs": [],
   "source": []
  },
  {
   "cell_type": "markdown",
   "metadata": {},
   "source": [
    "21 -  O Sr. Manoel Joaquim possui uma grande loja de artigos de R$ 1,99, com cerca\n",
    "de 10 caixas. Para agilizar o cálculo de quanto cada cliente deve pagar ele\n",
    "desenvolveu um tabela que contém o número de itens que o cliente comprou e ao\n",
    "lado o valor da conta. Desta forma a atendente do caixa precisa apenas contar\n",
    "quantos itens o cliente está levando e olhar na tabela de preços. Você foi contratado\n",
    "para desenvolver o programa que monta esta tabela de preços, que conterá os\n",
    "preços de 1 até 50 produtos, conforme o exemplo abaixo:\n",
    "Lojas Quase Dois - Tabela de preços\n",
    "1 - R$ 1.99\n",
    "2 - R$ 3.98\n",
    "...\n",
    "50 - R$ 99.50"
   ]
  },
  {
   "cell_type": "code",
   "execution_count": 32,
   "metadata": {},
   "outputs": [
    {
     "name": "stdout",
     "output_type": "stream",
     "text": [
      "1 - R$ 1.99\n",
      "2 - R$ 3.98\n",
      "3 - R$ 5.97\n",
      "4 - R$ 7.96\n",
      "5 - R$ 9.95\n",
      "6 - R$ 11.94\n",
      "7 - R$ 13.93\n",
      "8 - R$ 15.92\n",
      "9 - R$ 17.91\n",
      "10 - R$ 19.9\n",
      "11 - R$ 21.89\n",
      "12 - R$ 23.88\n",
      "13 - R$ 25.87\n",
      "14 - R$ 27.86\n",
      "15 - R$ 29.85\n",
      "16 - R$ 31.84\n",
      "17 - R$ 33.83\n",
      "18 - R$ 35.82\n",
      "19 - R$ 37.81\n",
      "20 - R$ 39.8\n",
      "21 - R$ 41.79\n",
      "22 - R$ 43.78\n",
      "23 - R$ 45.77\n",
      "24 - R$ 47.76\n",
      "25 - R$ 49.75\n",
      "26 - R$ 51.74\n",
      "27 - R$ 53.73\n",
      "28 - R$ 55.72\n",
      "29 - R$ 57.71\n",
      "30 - R$ 59.7\n",
      "31 - R$ 61.69\n",
      "32 - R$ 63.68\n",
      "33 - R$ 65.67\n",
      "34 - R$ 67.66\n",
      "35 - R$ 69.65\n",
      "36 - R$ 71.64\n",
      "37 - R$ 73.63\n",
      "38 - R$ 75.62\n",
      "39 - R$ 77.61\n",
      "40 - R$ 79.6\n",
      "41 - R$ 81.59\n",
      "42 - R$ 83.58\n",
      "43 - R$ 85.57\n",
      "44 - R$ 87.56\n",
      "45 - R$ 89.55\n",
      "46 - R$ 91.54\n",
      "47 - R$ 93.53\n",
      "48 - R$ 95.52\n",
      "49 - R$ 97.51\n",
      "50 - R$ 99.5\n"
     ]
    }
   ],
   "source": [
    "for num in range(1, 51):\n",
    "    preco = num * 1.99\n",
    "    print(f\"{num} - R$ {preco}\")"
   ]
  },
  {
   "cell_type": "code",
   "execution_count": null,
   "metadata": {},
   "outputs": [],
   "source": []
  },
  {
   "cell_type": "markdown",
   "metadata": {},
   "source": [
    "22 -  O Sr. Manoel Joaquim acaba de adquirir uma panificadora e pretende implantar\n",
    "a metodologia da tabelinha, que já é um sucesso na sua loja de 1,99. Você foi\n",
    "contratado para desenvolver o programa que monta a tabela de preços de pães, de\n",
    "1 até 50 pães, a partir do preço do pão informado pelo usuário, conforme o exemplo\n",
    "abaixo:\n",
    "Preço do pão: R$ 0.18\n",
    "Panificadora Pão de Ontem - Tabela de preços\n",
    "1 - R$ 0.18\n",
    "2 - R$ 0.36\n",
    "...\n",
    "50 - R$ 9.00"
   ]
  },
  {
   "cell_type": "code",
   "execution_count": 43,
   "metadata": {},
   "outputs": [
    {
     "name": "stdout",
     "output_type": "stream",
     "text": [
      "Insira o preço do pão: 0.18\n",
      "1 - R$ 0.18\n",
      "2 - R$ 0.36\n",
      "3 - R$ 0.54\n",
      "4 - R$ 0.72\n",
      "5 - R$ 0.90\n",
      "6 - R$ 1.08\n",
      "7 - R$ 1.26\n",
      "8 - R$ 1.44\n",
      "9 - R$ 1.62\n",
      "10 - R$ 1.80\n",
      "11 - R$ 1.98\n",
      "12 - R$ 2.16\n",
      "13 - R$ 2.34\n",
      "14 - R$ 2.52\n",
      "15 - R$ 2.70\n",
      "16 - R$ 2.88\n",
      "17 - R$ 3.06\n",
      "18 - R$ 3.24\n",
      "19 - R$ 3.42\n",
      "20 - R$ 3.60\n",
      "21 - R$ 3.78\n",
      "22 - R$ 3.96\n",
      "23 - R$ 4.14\n",
      "24 - R$ 4.32\n",
      "25 - R$ 4.50\n",
      "26 - R$ 4.68\n",
      "27 - R$ 4.86\n",
      "28 - R$ 5.04\n",
      "29 - R$ 5.22\n",
      "30 - R$ 5.40\n",
      "31 - R$ 5.58\n",
      "32 - R$ 5.76\n",
      "33 - R$ 5.94\n",
      "34 - R$ 6.12\n",
      "35 - R$ 6.30\n",
      "36 - R$ 6.48\n",
      "37 - R$ 6.66\n",
      "38 - R$ 6.84\n",
      "39 - R$ 7.02\n",
      "40 - R$ 7.20\n",
      "41 - R$ 7.38\n",
      "42 - R$ 7.56\n",
      "43 - R$ 7.74\n",
      "44 - R$ 7.92\n",
      "45 - R$ 8.10\n",
      "46 - R$ 8.28\n",
      "47 - R$ 8.46\n",
      "48 - R$ 8.64\n",
      "49 - R$ 8.82\n",
      "50 - R$ 9.00\n"
     ]
    }
   ],
   "source": [
    "preco = float(input(\"Insira o preço do pão: \"))\n",
    "for num in range(1, 51):\n",
    "    total = num * preco\n",
    "    print(\"%s - R$ %.2f\" % (num, total))"
   ]
  },
  {
   "cell_type": "code",
   "execution_count": null,
   "metadata": {},
   "outputs": [],
   "source": []
  },
  {
   "cell_type": "markdown",
   "metadata": {},
   "source": [
    "23 -  O Sr. Manoel Joaquim expandiu seus negócios para além dos negócios de 1,99 e\n",
    "agora possui uma loja de conveniências. Faça um programa que implemente uma\n",
    "caixa registradora rudimentar. O programa deverá receber um número\n",
    "desconhecido de valores referentes aos preços das mercadorias. Um valor zero deve\n",
    "ser informado pelo operador para indicar o final da compra. O programa deve então\n",
    "mostrar o total da compra e perguntar o valor em dinheiro que o cliente forneceu,\n",
    "para então calcular e mostrar o valor do troco. Após esta operação, o programa\n",
    "deverá voltar ao ponto inicial, para registrar a próxima compra. A saída deve ser\n",
    "conforme o exemplo abaixo:\n",
    "Lojas Tabajara\n",
    "Produto 1: R$ 2.20\n",
    "Produto 2: R$ 5.80\n",
    "Produto 3: R$ 0\n",
    "Total: R$ 9.00\n",
    "Dinheiro: R$ 20.00\n",
    "Troco: R$ 11.00"
   ]
  },
  {
   "cell_type": "code",
   "execution_count": 45,
   "metadata": {},
   "outputs": [
    {
     "name": "stdout",
     "output_type": "stream",
     "text": [
      "Insira o preço do item (Digite '0' para finalizar a compra): 2\n",
      "Produto 1: R$ 2.0\n",
      "Insira o preço do item (Digite '0' para finalizar a compra): 5\n",
      "Produto 2: R$ 5.0\n",
      "Insira o preço do item (Digite '0' para finalizar a compra): 7\n",
      "Produto 3: R$ 7.0\n",
      "Insira o preço do item (Digite '0' para finalizar a compra): 0\n",
      "Total: R$ 14.0\n",
      "Insira o valor a ser pago: 10\n",
      "Troco: R$  -4.0\n"
     ]
    }
   ],
   "source": [
    "total = 0\n",
    "preco = -1\n",
    "i = 0\n",
    "while preco != 0:\n",
    "    preco = float(input(\"Insira o preço do item (Digite '0' para finalizar a compra): \"))\n",
    "    total += preco\n",
    "    i += 1\n",
    "    if preco == 0:\n",
    "        print(f\"Total: R$ {total}\")\n",
    "        pago = float(input(\"Insira o valor a ser pago: \"))\n",
    "        print(\"Troco: R$ \", pago - total)\n",
    "    else:\n",
    "        print(f\"Produto {i}: R$ {preco}\")"
   ]
  },
  {
   "cell_type": "code",
   "execution_count": null,
   "metadata": {},
   "outputs": [],
   "source": []
  },
  {
   "cell_type": "markdown",
   "metadata": {},
   "source": [
    "24 -  Foi feita uma estatística em cinco cidades brasileiras para coletar dados sobre\n",
    "acidentes de trânsito. Foram obtidos os seguintes dados:\n",
    "- Código da cidade;\n",
    "- Número de veículos de passeio (em 1999);\n",
    "- Número de acidentes de trânsito com vítimas (em 1999). Deseja-se saber:\n",
    "- Qual o maior e menor índice de acidentes de transito e a que cidade pertence;\n",
    "- Qual a média de veículos nas cinco cidades juntas;\n",
    "- Qual a média de acidentes de trânsito nas cidades com menos de 2.000 veículos de\n",
    "passeio."
   ]
  },
  {
   "cell_type": "code",
   "execution_count": 47,
   "metadata": {},
   "outputs": [
    {
     "name": "stdout",
     "output_type": "stream",
     "text": [
      "Maior índice e a cidade:  [1234, 13]\n",
      "Menor índice e a cidade:  [7, 'cidade4']\n",
      "Média de veículos nas cinco cidades juntas:  24468.8\n",
      "Média de acidentes de trânsito nas cidades com menos de 2.000 veículos de passeio:  19.0\n"
     ]
    }
   ],
   "source": [
    "cidades = {\n",
    "    \"cidade1\": [1234, 13],\n",
    "    \"cidade2\": [54321, 15],\n",
    "    \"cidade3\": [123, 25],\n",
    "    \"cidade4\": [12345, 7],\n",
    "    \"cidade5\": [54321, 27]\n",
    "}\n",
    "\n",
    "menorIndice = [cidades[\"cidade1\"][0], cidades[\"cidade1\"][1]]\n",
    "maiorIndice = [cidades[\"cidade1\"][0], cidades[\"cidade1\"][1]]\n",
    "somaVeiculos = 0\n",
    "somaAcidentes = 0\n",
    "contCidades = 0\n",
    "for cod in cidades:\n",
    "    somaVeiculos += cidades[cod][0]\n",
    "    if cidades[cod][0] < 2000:\n",
    "        somaAcidentes += cidades[cod][1]\n",
    "        contCidades += 1\n",
    "    if cidades[cod][1] > maiorIndice[0]:\n",
    "        maiorIndice[0] = cidades[cod][1]\n",
    "        maiorIndice[1] = cod\n",
    "    if cidades[cod][1] < menorIndice[0]:\n",
    "        menorIndice[0] = cidades[cod][1]\n",
    "        menorIndice[1] = cod\n",
    "        \n",
    "    \n",
    "mediaVeiculos = somaVeiculos / len(cidades.keys())\n",
    "mediaAcidentes = somaAcidentes / contCidades\n",
    "\n",
    "print(\"Maior índice é a cidade: \", maiorIndice)\n",
    "print(\"Menor índice é a cidade: \", menorIndice)\n",
    "print(\"Média de veículos nas cinco cidades juntas: \", mediaVeiculos)\n",
    "print(\"Média de acidentes de trânsito nas cidades com menos de 2.000 veículos de passeio: \", mediaAcidentes)"
   ]
  },
  {
   "cell_type": "code",
   "execution_count": null,
   "metadata": {},
   "outputs": [],
   "source": []
  },
  {
   "cell_type": "markdown",
   "metadata": {},
   "source": [
    "25 -  Faça um programa que receba o valor de uma dívida e mostre uma tabela com os\n",
    "seguintes dados: valor da dívida, valor dos juros, quantidade de parcelas e valor da\n",
    "parcela.\n",
    "Os juros e a quantidade de parcelas seguem a tabela abaixo:\n",
    "Quantidade de Parcelas % de Juros sobre o valor inicial da dívida\n",
    "1 0\n",
    "3 10\n",
    "6 15\n",
    "9 20\n",
    "12 25\n",
    "Exemplo de saída do programa:\n",
    "Valor da Dívida Valor dos Juros Quantidade de Parcelas Valor da Parcela\n",
    "R$ 1.000,00 0 1 R$ 1.000,00\n",
    "R$ 1.100,00 100 3 R$ 366,00\n",
    "R$ 1.150,00 150 6 R$ 191,67"
   ]
  },
  {
   "cell_type": "code",
   "execution_count": 54,
   "metadata": {},
   "outputs": [
    {
     "name": "stdout",
     "output_type": "stream",
     "text": [
      "Insira o valor da dívida: 1000\n",
      "Dívida \t Valor Juros \t Qtde Parcelas \t Valor da Parcela\n",
      "R$ 1000.0 \t 0.0 \t 1 \t R$ 1000.00\n",
      "R$ 1100.0 \t 100.0 \t 3 \t R$ 366.67\n",
      "R$ 1150.0 \t 150.0 \t 6 \t R$ 191.67\n",
      "R$ 1200.0 \t 200.0 \t 9 \t R$ 133.33\n",
      "R$ 1250.0 \t 250.0 \t 12 \t R$ 104.17\n"
     ]
    }
   ],
   "source": [
    "dividaInicial = float(input(\"Insira o valor da dívida: \"))\n",
    "print(\"Dívida \\t Valor Juros \\t Qtde Parcelas \\t Valor da Parcela\")\n",
    "for i in range(0, 5):\n",
    "    if i == 0:\n",
    "        juros = 0\n",
    "    elif i == 1:\n",
    "        juros = 10\n",
    "    else:\n",
    "        juros += 5\n",
    "    valorJuros = dividaInicial * (juros / 100)\n",
    "    divida = dividaInicial + valorJuros\n",
    "    if i == 0:\n",
    "        qtdeParc = 1\n",
    "    else:\n",
    "        qtdeParc = i * 3\n",
    "    if qtdeParc != 0:\n",
    "        valorParcela = divida / qtdeParc\n",
    "    else:\n",
    "        valorParcela = divida\n",
    "    print(f\"R$ {divida} \\t {valorJuros} \\t {qtdeParc} \\t R$ %.2f\"%(valorParcela))"
   ]
  },
  {
   "cell_type": "code",
   "execution_count": null,
   "metadata": {},
   "outputs": [],
   "source": []
  },
  {
   "cell_type": "markdown",
   "metadata": {},
   "source": [
    "26 - Faça um programa que mostre os n termos da Série a seguir:\n",
    " S = 1/1 + 2/3 + 3/5 + 4/7 + 5/9 + ... + n/m.\n",
    "Imprima no final a soma da série."
   ]
  },
  {
   "cell_type": "code",
   "execution_count": 55,
   "metadata": {},
   "outputs": [
    {
     "name": "stdout",
     "output_type": "stream",
     "text": [
      "Insira a quantidade de termos desejada: 4\n",
      "S = 1/1 + 2/3 + 3/5 + 4/7\n",
      "Soma da série: 2.838095238095238\n"
     ]
    }
   ],
   "source": [
    "termo = int(input('Insira a quantidade de termos desejada: '))\n",
    "\n",
    "somaStr = \"S = \"\n",
    "s = 0\n",
    "m = 1\n",
    "for n in range(1, termo + 1):\n",
    "    s += n / m\n",
    "    somaStr += str(n) + \"/\" + str(m)\n",
    "    if n != termo:\n",
    "        somaStr += \" + \"\n",
    "    m += 2\n",
    "\n",
    "print(somaStr)\n",
    "print('Soma da série: %s' % s)"
   ]
  }
 ],
 "metadata": {
  "kernelspec": {
   "display_name": "Python 3",
   "language": "python",
   "name": "python3"
  },
  "language_info": {
   "codemirror_mode": {
    "name": "ipython",
    "version": 3
   },
   "file_extension": ".py",
   "mimetype": "text/x-python",
   "name": "python",
   "nbconvert_exporter": "python",
   "pygments_lexer": "ipython3",
   "version": "3.7.0"
  }
 },
 "nbformat": 4,
 "nbformat_minor": 2
}
