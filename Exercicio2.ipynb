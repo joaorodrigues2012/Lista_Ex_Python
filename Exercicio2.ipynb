{
 "cells": [
  {
   "cell_type": "markdown",
   "metadata": {},
   "source": [
    "1 - Crie um programa que recebe uma lista de números e\n",
    "- retorne o maior elemento\n",
    "- retorne a soma dos elementos\n",
    "- retorne o número de ocorrências do primeiro elemento da lista\n",
    "- retorne a média dos elementos\n",
    "- retorne o valor mais próximo da média dos elementos\n",
    "- retorne a soma dos elementos com valor negativo\n",
    "- retorne a quantidade de vizinhos iguais"
   ]
  },
  {
   "cell_type": "code",
   "execution_count": 20,
   "metadata": {},
   "outputs": [
    {
     "name": "stdout",
     "output_type": "stream",
     "text": [
      "Insira o 1 elemento: 2\n",
      "Insira o 2 elemento: 2\n",
      "Insira o 3 elemento: 6\n",
      "Insira o 4 elemento: 4\n",
      "Insira o 5 elemento: 8\n",
      "O maior numero é:  8\n",
      "A soma dos numeros é:  22\n",
      "Digite um numero pra ver quantos existem: 4\n",
      "Tem:  1\n",
      "A media é:  4.4\n",
      "Número mais próximo da média:  4\n",
      "A soma dos elementos com valor negativo é:  0\n",
      "Vizinhos iguais:  1\n"
     ]
    }
   ],
   "source": [
    "lista = [\n",
    "    int(input(\"Insira o 1 elemento: \")),\n",
    "    int(input(\"Insira o 2 elemento: \")),\n",
    "    int(input(\"Insira o 3 elemento: \")),\n",
    "    int(input(\"Insira o 4 elemento: \")),\n",
    "    int(input(\"Insira o 5 elemento: \"))\n",
    "]\n",
    "media = sum(lista)/len(lista)\n",
    "maisProximo = lista[0]\n",
    "diferenca = media - lista[0]\n",
    "menorDiferenca = diferenca\n",
    "vizinhos = 0\n",
    "somaNeg = 0\n",
    "anterior = lista[0] + 1\n",
    "\n",
    "for num in lista:\n",
    "    if num < 0:\n",
    "        somaNeg += num\n",
    "\n",
    "    if num == anterior:\n",
    "        vizinhos += 1\n",
    "    anterior = num\n",
    "\n",
    "for num in lista:\n",
    "    diferenca = media - num\n",
    "    if diferenca < 0:\n",
    "        diferenca = diferenca * -1\n",
    "    if diferenca < menorDiferenca:\n",
    "        menorDiferenca = diferenca\n",
    "        maisProximo = num\n",
    "\n",
    "print('O maior numero é: ',max(lista))\n",
    "print('A soma dos numeros é: ',sum(lista))\n",
    "cont = int(input(\"Digite um numero pra ver quantos existem: \"))\n",
    "print('Tem: ',lista.count(cont))\n",
    "print('A media é: ',media)\n",
    "print(\"Número mais próximo da média: \", maisProximo)\n",
    "print ('A soma dos elementos com valor negativo é: ',somaNeg)\n",
    "print(\"Vizinhos iguais: \", vizinhos)"
   ]
  },
  {
   "cell_type": "code",
   "execution_count": null,
   "metadata": {},
   "outputs": [],
   "source": []
  },
  {
   "cell_type": "markdown",
   "metadata": {},
   "source": [
    "2 - Faça um programa que receba duas listas e retorne True se são iguais ou False caso\n",
    "contrario.\n",
    "Duas listas são iguais se possuem os mesmos valores e na mesma ordem."
   ]
  },
  {
   "cell_type": "code",
   "execution_count": null,
   "metadata": {},
   "outputs": [],
   "source": [
    "lista = []\n",
    "lista2 = []\n",
    "for i in range(10):\n",
    "    num1 = input(\"digite 10 numeros: \")\n",
    "    lista.append(num1)\n",
    "\n",
    "for i in range(10):\n",
    "    num2 = input(\"digite mais 10 numeros: \")\n",
    "    lista2.append(num2)\n",
    "    \n",
    "if(lista == lista2):\n",
    "    print('são iguais')\n",
    "else:\n",
    "    print('São diferentes')\n",
    "    \n",
    "print(lista)\n",
    "print(lista2)"
   ]
  },
  {
   "cell_type": "code",
   "execution_count": null,
   "metadata": {},
   "outputs": [],
   "source": []
  },
  {
   "cell_type": "markdown",
   "metadata": {},
   "source": [
    "3 - Faça um programa que receba duas listas e retorne True se têm os mesmos\n",
    "elementos ou False caso contrário\n",
    "Duas listas possuem os mesmos elementos quando são compostas pelos mesmos\n",
    "valores, mas não obrigatoriamente na mesma ordem."
   ]
  },
  {
   "cell_type": "code",
   "execution_count": null,
   "metadata": {},
   "outputs": [],
   "source": [
    "lista = []\n",
    "lista2 = []\n",
    "for i in range(10):\n",
    "    num1 = input(\"digite 10 numeros: \")\n",
    "    lista.append(num1)\n",
    "\n",
    "for i in range(10):\n",
    "    num2 = input(\"digite mais 10 numeros: \")\n",
    "    lista2.append(num2)\n",
    "\n",
    "listaSort = lista.sort()\n",
    "lista2Sort = lista2.sort()\n",
    "if(listaSort == lista2Sort):\n",
    "    print('são iguais')\n",
    "else:\n",
    "    print('São diferentes')\n",
    "    \n",
    "print(lista)\n",
    "print(lista2)"
   ]
  },
  {
   "cell_type": "code",
   "execution_count": null,
   "metadata": {},
   "outputs": [],
   "source": []
  },
  {
   "cell_type": "markdown",
   "metadata": {},
   "source": [
    "4 - Faça um programa que percorre uma lista com o seguinte formato: [['Brasil',\n",
    "'Italia', [10, 9]], ['Brasil', 'Espanha', [5, 7]], ['Italia', 'Espanha', [7,8]]]. Essa lista indica o\n",
    "número de faltas que cada time fez em cada jogo. Na lista acima, no jogo entre Brasil\n",
    "e Itália, o Brasil fez 10 faltas e a Itália fez 9.\n",
    "O programa deve imprimir na tela:\n",
    "- o total de faltas do campeonato\n",
    "- o time que fez mais faltas\n",
    "- o time que fez menos faltas"
   ]
  },
  {
   "cell_type": "code",
   "execution_count": 1,
   "metadata": {},
   "outputs": [
    {
     "name": "stdout",
     "output_type": "stream",
     "text": [
      "43\n",
      "{'Brasil': 15, 'Italia': 16, 'Espanha': 12}\n"
     ]
    }
   ],
   "source": [
    "jogos = [['Brasil', 'Italia', [10, 9]], ['Brasil', \"Espanha\", [5, 4]],['Italia','Espanha',[7,8]]]\n",
    "total_faltas = 0\n",
    "for jogo in jogos:\n",
    "    total_faltas += jogo[2][0]\n",
    "    total_faltas += jogo[2][1]\n",
    "print (total_faltas)\n",
    "\n",
    "d = {}\n",
    "for jogo in jogos:\n",
    "    d[jogo[0]] = 0\n",
    "    d[jogo[1]] = 0\n",
    "\n",
    "for jogo in jogos:\n",
    "    d[jogo[0]] += jogo[2][0]\n",
    "    d[jogo[1]] += jogo[2][1]\n",
    "\n",
    "print (d)"
   ]
  },
  {
   "cell_type": "code",
   "execution_count": null,
   "metadata": {},
   "outputs": [],
   "source": []
  },
  {
   "cell_type": "markdown",
   "metadata": {},
   "source": [
    "5- Escreva um programa que conta a quantidade de vogais em uma string e armazena\n",
    "tal quantidade em um dicionário, onde a chave é a vogal considerada."
   ]
  },
  {
   "cell_type": "code",
   "execution_count": 1,
   "metadata": {},
   "outputs": [
    {
     "name": "stdout",
     "output_type": "stream",
     "text": [
      "Digite uma palavra: victor\n",
      "a  =  0\n",
      "e  =  0\n",
      "i  =  1\n",
      "o  =  1\n",
      "u  =  0\n"
     ]
    }
   ],
   "source": [
    "dic = {}\n",
    "vogais = ['a', 'e', 'i', 'o', 'u']\n",
    "\n",
    "for v in vogais:\n",
    "    dic[v] = 0\n",
    "    \n",
    "frase = input(\"Digite uma palavra: \")\n",
    "\n",
    "for c in frase.lower():\n",
    "    if c in vogais:\n",
    "        dic[c] += 1\n",
    "\n",
    "for v in vogais:\n",
    "    print (v, \" = \", dic[v])"
   ]
  },
  {
   "cell_type": "code",
   "execution_count": null,
   "metadata": {},
   "outputs": [],
   "source": []
  },
  {
   "cell_type": "markdown",
   "metadata": {},
   "source": [
    "6 - Escreva um programa que lê̂ duas notas de vários alunos e armazena tais notas em\n",
    "um dicionário, onde a chave é o nome do aluno. A entrada de dados deve terminar\n",
    "quando for lida uma string vazia como nome. Escreva uma função que retorna a\n",
    "média do aluno, dado seu nome."
   ]
  },
  {
   "cell_type": "code",
   "execution_count": 41,
   "metadata": {},
   "outputs": [
    {
     "name": "stdout",
     "output_type": "stream",
     "text": [
      "Insira o nome do aluno: victor\n",
      "Insira a primeira nota: 12\n",
      "Insira a segunda nota: 12\n",
      "Insira o nome do aluno: 12\n",
      "Insira a primeira nota: 12\n",
      "Insira a segunda nota: 12\n",
      "Insira o nome do aluno: \n",
      "Insira o nome do aluno o qual deseja ver a média: as\n"
     ]
    },
    {
     "ename": "KeyError",
     "evalue": "'as'",
     "traceback": [
      "\u001b[1;31m---------------------------------------------------------------------------\u001b[0m",
      "\u001b[1;31mKeyError\u001b[0m                                  Traceback (most recent call last)",
      "\u001b[1;32m<ipython-input-41-4e77848876ee>\u001b[0m in \u001b[0;36m<module>\u001b[1;34m\u001b[0m\n\u001b[0;32m     10\u001b[0m \u001b[1;33m\u001b[0m\u001b[0m\n\u001b[0;32m     11\u001b[0m \u001b[0mnomepesssoa\u001b[0m \u001b[1;33m=\u001b[0m \u001b[0minput\u001b[0m\u001b[1;33m(\u001b[0m\u001b[1;34m\"Insira o nome do aluno o qual deseja ver a média: \"\u001b[0m\u001b[1;33m)\u001b[0m\u001b[1;33m\u001b[0m\u001b[1;33m\u001b[0m\u001b[0m\n\u001b[1;32m---> 12\u001b[1;33m \u001b[0mmedia\u001b[0m \u001b[1;33m=\u001b[0m \u001b[1;33m(\u001b[0m\u001b[0mdic\u001b[0m\u001b[1;33m[\u001b[0m\u001b[0mnomepesssoa\u001b[0m\u001b[1;33m]\u001b[0m\u001b[1;33m[\u001b[0m\u001b[1;36m0\u001b[0m\u001b[1;33m]\u001b[0m \u001b[1;33m+\u001b[0m \u001b[0mdic\u001b[0m\u001b[1;33m[\u001b[0m\u001b[0mnomepesssoa\u001b[0m\u001b[1;33m]\u001b[0m\u001b[1;33m[\u001b[0m\u001b[1;36m1\u001b[0m\u001b[1;33m]\u001b[0m\u001b[1;33m)\u001b[0m \u001b[1;33m/\u001b[0m \u001b[1;36m2\u001b[0m\u001b[1;33m\u001b[0m\u001b[1;33m\u001b[0m\u001b[0m\n\u001b[0m\u001b[0;32m     13\u001b[0m \u001b[0mprint\u001b[0m\u001b[1;33m(\u001b[0m\u001b[1;34m'A media foi '\u001b[0m\u001b[1;33m,\u001b[0m\u001b[0mmedia\u001b[0m\u001b[1;33m)\u001b[0m\u001b[1;33m\u001b[0m\u001b[1;33m\u001b[0m\u001b[0m\n",
      "\u001b[1;31mKeyError\u001b[0m: 'as'"
     ],
     "output_type": "error"
    }
   ],
   "source": [
    "dic = {}\n",
    "i = 0\n",
    "nome = input(\"Insira o nome do aluno: \")\n",
    "while nome != \"\":\n",
    "    dic[nome] = [\n",
    "        float(input(\"Insira a primeira nota: \")),\n",
    "        float(input(\"Insira a segunda nota: \"))\n",
    "    ]\n",
    "    nome = input(\"Insira o nome do aluno: \")\n",
    "\n",
    "nomepesssoa = input(\"Insira o nome do aluno o qual deseja ver a média: \")\n",
    "media = (dic[nomepesssoa][0] + dic[nomepesssoa][1]) / 2\n",
    "print('A media foi ',media)\n"
   ]
  },
  {
   "cell_type": "code",
   "execution_count": null,
   "metadata": {},
   "outputs": [],
   "source": []
  },
  {
   "cell_type": "markdown",
   "metadata": {},
   "source": [
    "7 - Uma pista de Kart permite 10 voltas para cada um de 6 corredores. Escreva um\n",
    "programa que leia todos os tempos em segundos e os guarde em um dicionário,\n",
    "onde a chave é o nome do corredor. Ao final diga de quem foi a melhor volta da\n",
    "prova e em que volta; e ainda a classificação final em ordem (1o\n",
    " o campeão). O\n",
    "campeão é o que tem a menor média de tempos."
   ]
  },
  {
   "cell_type": "code",
   "execution_count": 57,
   "metadata": {},
   "outputs": [
    {
     "name": "stdout",
     "output_type": "stream",
     "text": [
      "Digite o nome do corredor: victor\n",
      "1° lugar: shalom - 59.9 segs.\n",
      "2° lugar: victor - 60.6 segs.\n",
      "3° lugar: daniel - 60.8 segs.\n",
      "4° lugar: Marcos - 61.2 segs.\n",
      "5° lugar: felipe - 61.6 segs.\n",
      "6° lugar: samuel - 63.8 segs.\n"
     ]
    }
   ],
   "source": [
    "import operator\n",
    "\n",
    "dic = {\n",
    "    \"victor\": [57, 58, 60, 56, 64, 70, 59, 58, 69, 55],\n",
    "    \"daniel\": [56, 60, 72, 50, 67, 58, 61, 63, 62, 59],\n",
    "    \"shalom\": [79, 52, 58, 48, 58, 59, 61, 65, 59, 60],\n",
    "    \"samuel\": [56, 50, 55, 70, 85, 73, 68, 65, 56, 60],\n",
    "    \"Marcos\": [69, 55, 67, 50, 52, 53, 70, 75, 65, 56],\n",
    "    \"felipe\": [56, 63, 63, 65, 70, 59, 55, 60, 63, 62]\n",
    "}\n",
    "\n",
    "corredor = input(\"Digite o nome do corredor: \")\n",
    "\n",
    "volta = 0\n",
    "medias = dic\n",
    "nome = \"\"\n",
    "melhorVolta = dic[corredor][0]\n",
    "for chave in dic:\n",
    "    soma = 0\n",
    "    for num in dic[chave]:\n",
    "        if num < melhorVolta:\n",
    "            melhorVolta = num\n",
    "            nome = chave\n",
    "        soma += num\n",
    "    medias[chave] = soma / 10\n",
    "\n",
    "\n",
    "sort = sorted(medias.items(), key=operator.itemgetter(1))\n",
    "for i in range(0, 6):\n",
    "    print(\"%s° lugar: %s - %s segs.\" % (i + 1, sort[i][0], sort[i][1]))"
   ]
  },
  {
   "cell_type": "markdown",
   "metadata": {},
   "source": [
    "8 - Escreva um programa para armazenar uma agenda de telefones em um dicionário.\n",
    "Cada pessoa pode ter um ou mais telefones e a chave do dicionário é o nome da\n",
    "pessoa. Seu programa deve ter as seguintes funções:\n",
    " incluirNovoNome – essa função acrescenta um novo nome na agenda, com um ou\n",
    "mais telefones. Ela deve receber como argumentos o nome e os telefones.\n",
    " incluirTelefone – essa função acrescenta um telefone em um nome existente na\n",
    "agenda. Caso o nome não exista na agenda, voc deve perguntar se a pessoa deseja ê̂ duas notas de vários alunos e armazena tais notas em\n",
    "inclui-lo. Caso a resposta seja afirmativa, use a função anterior para incluir o novo\n",
    "nome.\n",
    " excluirTelefone – essa função exclui um telefone de uma pessoa que já está na\n",
    "agenda. Se a pessoa tiver apenas um telefone, ela deve ser excluída da agenda.\n",
    " excluirNome – essa função exclui uma pessoa da agenda.\n",
    " consultarTelefone – essa função retorna os telefones de uma pessoa na agenda."
   ]
  },
  {
   "cell_type": "code",
   "execution_count": 50,
   "metadata": {},
   "outputs": [
    {
     "name": "stdout",
     "output_type": "stream",
     "text": [
      "\n",
      "Escolha uma opção: \n",
      "1 - Incluir Novo Nome\n",
      "2 - Incluir Telefone\n",
      "3 - Excluir Telefone\n",
      "4 - Consultar Agenda\n",
      "0 - Encerrar Programa\n",
      "1\n",
      "Insira o nome da pessoa: victor\n",
      "Insira um telefone da pessoa: 2016\n",
      "Inserir outro telefone (ou digite 0 para parar): 0\n",
      "\n",
      "Escolha uma opção: \n",
      "1 - Incluir Novo Nome\n",
      "2 - Incluir Telefone\n",
      "3 - Excluir Telefone\n",
      "4 - Consultar Agenda\n",
      "0 - Encerrar Programa\n",
      "4\n",
      "Insira o nome da pessoa: victor\n",
      "[2016]\n",
      "\n",
      "Escolha uma opção: \n",
      "1 - Incluir Novo Nome\n",
      "2 - Incluir Telefone\n",
      "3 - Excluir Telefone\n",
      "4 - Consultar Agenda\n",
      "0 - Encerrar Programa\n",
      "0\n"
     ]
    }
   ],
   "source": [
    "agenda = {}\n",
    "\n",
    "def incluirNovoNome(nome, telefones):\n",
    "    global agenda\n",
    "    agenda[nome] = telefones\n",
    "    \n",
    "def incluirTelefone(nome, telefone):\n",
    "    global agenda\n",
    "    if nome in agenda.keys():\n",
    "        agenda[nome].append(telefone)\n",
    "    else:\n",
    "        if input(\"Essa pessoa não existe, incluir ela na agenda (s/n)? \") == \"s\":\n",
    "            telefones = [telefone]\n",
    "            incluirNovoNome(nome, telefones)\n",
    "            \n",
    "def excluirTelefone(nome, telefone):\n",
    "    global agenda\n",
    "    if nome in agenda.keys():\n",
    "        if len(agenda[nome]) == 1:\n",
    "            del agenda[nome]\n",
    "        else:\n",
    "            for num in range(0, len(agenda[nome]) - 1):\n",
    "                if telefone == agenda[nome][num]:\n",
    "                    agenda[nome].pop(num)\n",
    "        \n",
    "def consultarTelefone(nome):\n",
    "    global agenda\n",
    "    if nome in agenda.keys():\n",
    "        print(agenda[nome])\n",
    "    \n",
    "opcao = -1\n",
    "while opcao != 0:\n",
    "    opcao = int(input(\"\\nEscolha uma opção: \\n1 - Incluir Novo Nome\\n2 - Incluir Telefone\\n3 - Excluir Telefone\\n4 - Consultar Agenda\\n0 - Encerrar Programa\\n\"))\n",
    "    \n",
    "    # INSERIR NOVO NOME\n",
    "    if opcao == 1:\n",
    "        nome = input(\"Insira o nome da pessoa: \")\n",
    "        telefones = []\n",
    "        telefones.append(int(input(\"Insira um telefone da pessoa: \")))\n",
    "        telefone = -1\n",
    "        while telefone != 0:\n",
    "            telefone = int(input(\"Inserir outro telefone (ou digite 0 para parar): \"))\n",
    "            if telefone != 0:\n",
    "                telefones.append(telefone)\n",
    "        incluirNovoNome(nome, telefones)\n",
    "    # INCLUIR TELEFONE\n",
    "    elif opcao == 2:\n",
    "        nome = input(\"Insira o nome da pessoa: \")\n",
    "        telefone = int(input(\"Insira um novo telefone da pessoa: \"))\n",
    "        incluirTelefone(nome, telefone)\n",
    "    # EXCLUIR TELEFONE\n",
    "    elif opcao == 3:\n",
    "        nome = input(\"Insira o nome da pessoa: \")\n",
    "        telefone = int(input(\"Insira o telefone da pessoa a qual deseja excluir: \"))\n",
    "        excluirTelefone(nome, telefone)\n",
    "    elif opcao == 4:\n",
    "        consultarTelefone(input(\"Insira o nome da pessoa: \"))"
   ]
  },
  {
   "cell_type": "markdown",
   "metadata": {},
   "source": [
    "9 - Faça um programa que leia um arquivo texto contendo uma lista de endereços IP e\n",
    "gere um outro arquivo, contendo um relatório dos endereços IP válidos e inválidos.\n",
    "O arquivo de entrada possui o seguinte formato:\n",
    "200.135.80.9\n",
    "192.168.1.1\n",
    "8.35.67.74\n",
    "257.32.4.5\n",
    "85.345.1.2\n",
    "1.2.3.4\n",
    "9.8.234.5\n",
    "192.168.0.256"
   ]
  },
  {
   "cell_type": "code",
   "execution_count": null,
   "metadata": {},
   "outputs": [],
   "source": [
    "%%writefile ips.txt\n",
    "200.135.80.9\n",
    "192.168.1.1\n",
    "8.35.67.74\n",
    "257.32.4.5\n",
    "85.345.1.2\n",
    "1.2.3.4\n",
    "9.8.234.5\n",
    "192.168.0.256"
   ]
  },
  {
   "cell_type": "code",
   "execution_count": 47,
   "metadata": {},
   "outputs": [],
   "source": [
    "import socket\n",
    "\n",
    "ipsValidos = []\n",
    "ipsInvalidos = []\n",
    "\n",
    "ips = open(\"ips.txt\")\n",
    "for ip in ips:\n",
    "    try:\n",
    "        socket.inet_aton(ip)\n",
    "        # Validos\n",
    "        ipsValidos.append(ip)\n",
    "    except socket.error:\n",
    "        # Invalidos\n",
    "        ipsInvalidos.append(ip)\n",
    "        \n",
    "ips.close()\n",
    "\n",
    "saida = open(\"ipsvalidados.txt\", \"w+\")\n",
    "\n",
    "saida.write(\"[Endereços válidos:]\\n\")\n",
    "for ip in ipsValidos:\n",
    "    saida.write(ip)\n",
    "    \n",
    "saida.write(\"[Endereços inválidos:]\\n\")\n",
    "for ip in ipsInvalidos:\n",
    "    saida.write(ip)\n",
    "    \n",
    "saida.close()"
   ]
  },
  {
   "cell_type": "markdown",
   "metadata": {},
   "source": [
    "10 - A ACME Inc., uma empresa de 500 funcionários, está tendo problemas de espaço\n",
    "em disco no seu servidor de arquivos. Para tentar resolver este problema, o\n",
    "Administrador de Rede precisa saber qual o espaço ocupado pelos usuários, e\n",
    "identificar os usuários com maior espaço ocupado. Através de um programa, baixado\n",
    "da Internet, ele conseguiu gerar o seguinte arquivo, chamado \"usuarios.txt\":"
   ]
  },
  {
   "cell_type": "code",
   "execution_count": 44,
   "metadata": {},
   "outputs": [
    {
     "name": "stdout",
     "output_type": "stream",
     "text": [
      "Overwriting usuarios.txt\n"
     ]
    }
   ],
   "source": [
    "%%writefile usuarios.txt\n",
    "victor 123456789\n",
    "daniel 987654321\n",
    "shalom 123456456\n",
    "samuel 91257581"
   ]
  },
  {
   "cell_type": "code",
   "execution_count": 45,
   "metadata": {},
   "outputs": [],
   "source": [
    "\n",
    "def paraMb(tamanho):\n",
    "    return float(tamanho / (1024*1024))\n",
    "\n",
    "def usoMemoria(tamanho, total):\n",
    "    return float(tamanho / total) * 100\n",
    "\n",
    "dic = {}\n",
    "total = 0\n",
    "usuarios = open(\"usuarios.txt\")\n",
    "for usuario in usuarios:\n",
    "    nome, memoria = usuario.split(\" \")\n",
    "    dic[nome] = int(memoria)\n",
    "    total += int(memoria)\n",
    "usuarios.close()\n",
    "media = total / len(dic.keys())\n",
    "\n",
    "relatorio = open(\"relatório.txt\", \"w+\")\n",
    "relatorio.write(\"ACME Inc.               Uso do espaço em disco pelos usuários.\\n\")\n",
    "relatorio.write(\"--------------------------------------------------------------\\n\")\n",
    "relatorio.write(\"Nr.\\tUsuário \\tEspaço utilizado\\t% do uso\\n\")\n",
    "\n",
    "nr = 1\n",
    "for usuario in dic:\n",
    "    relatorio.write(str(nr) + \"\\t\" + usuario + \"\\t\" + \"{0:.2f}\".format(paraMb(dic[usuario])) + \" MB\\t\\t\" + \"{0:.2f}\".format(usoMemoria(dic[usuario], total)) + \"%\\n\")\n",
    "    nr += 1\n",
    "    \n",
    "\n",
    "relatorio.write(\"Espaço total ocupado: \" + \"{0:.2f}\".format(paraMb(total)) + \"\\n\")\n",
    "relatorio.write(\"Espaço médio ocupado: \" + \"{0:.2f}\".format(paraMb(media)))\n",
    "\n",
    "relatorio.close()"
   ]
  }
 ],
 "metadata": {
  "kernelspec": {
   "display_name": "Python 3",
   "language": "python",
   "name": "python3"
  },
  "language_info": {
   "codemirror_mode": {
    "name": "ipython",
    "version": 3
   },
   "file_extension": ".py",
   "mimetype": "text/x-python",
   "name": "python",
   "nbconvert_exporter": "python",
   "pygments_lexer": "ipython3",
   "version": "3.7.1"
  }
 },
 "nbformat": 4,
 "nbformat_minor": 2
}
